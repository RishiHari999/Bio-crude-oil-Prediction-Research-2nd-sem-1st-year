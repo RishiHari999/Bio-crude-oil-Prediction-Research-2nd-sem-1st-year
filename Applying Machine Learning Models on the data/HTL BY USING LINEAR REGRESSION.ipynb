{
 "cells": [
  {
   "cell_type": "code",
   "execution_count": 2,
   "id": "410ffcfc",
   "metadata": {},
   "outputs": [
    {
     "data": {
      "application/javascript": [
       "\n",
       "        if (window._pyforest_update_imports_cell) { window._pyforest_update_imports_cell('import pandas as pd'); }\n",
       "    "
      ],
      "text/plain": [
       "<IPython.core.display.Javascript object>"
      ]
     },
     "metadata": {},
     "output_type": "display_data"
    },
    {
     "data": {
      "text/html": [
       "<div>\n",
       "<style scoped>\n",
       "    .dataframe tbody tr th:only-of-type {\n",
       "        vertical-align: middle;\n",
       "    }\n",
       "\n",
       "    .dataframe tbody tr th {\n",
       "        vertical-align: top;\n",
       "    }\n",
       "\n",
       "    .dataframe thead th {\n",
       "        text-align: right;\n",
       "    }\n",
       "</style>\n",
       "<table border=\"1\" class=\"dataframe\">\n",
       "  <thead>\n",
       "    <tr style=\"text-align: right;\">\n",
       "      <th></th>\n",
       "      <th>Feedstock</th>\n",
       "      <th>Type</th>\n",
       "      <th>Moisture</th>\n",
       "      <th>Volatile</th>\n",
       "      <th>Ash</th>\n",
       "      <th>Proteins</th>\n",
       "      <th>lipids</th>\n",
       "      <th>carbohydrates</th>\n",
       "      <th>C</th>\n",
       "      <th>H</th>\n",
       "      <th>...</th>\n",
       "      <th>O</th>\n",
       "      <th>S</th>\n",
       "      <th>Culture Condition</th>\n",
       "      <th>Catalyst</th>\n",
       "      <th>Temp</th>\n",
       "      <th>Time</th>\n",
       "      <th>Pressure</th>\n",
       "      <th>HHV</th>\n",
       "      <th>ERR</th>\n",
       "      <th>Yield%</th>\n",
       "    </tr>\n",
       "  </thead>\n",
       "  <tbody>\n",
       "    <tr>\n",
       "      <th>0</th>\n",
       "      <td>Spirulina platensis</td>\n",
       "      <td>microalgae</td>\n",
       "      <td>11.8</td>\n",
       "      <td>67.0</td>\n",
       "      <td>8.6</td>\n",
       "      <td>53.0</td>\n",
       "      <td>7.5</td>\n",
       "      <td>11.0</td>\n",
       "      <td>72.7</td>\n",
       "      <td>8.8</td>\n",
       "      <td>...</td>\n",
       "      <td>11.5</td>\n",
       "      <td>0.6</td>\n",
       "      <td>open pond</td>\n",
       "      <td>Na2CO3</td>\n",
       "      <td>300</td>\n",
       "      <td>30</td>\n",
       "      <td>130</td>\n",
       "      <td>35.2</td>\n",
       "      <td>37.2</td>\n",
       "      <td>36.0</td>\n",
       "    </tr>\n",
       "    <tr>\n",
       "      <th>1</th>\n",
       "      <td>Nannochloropsis</td>\n",
       "      <td>microalgae</td>\n",
       "      <td>3.9</td>\n",
       "      <td>67.4</td>\n",
       "      <td>24.4</td>\n",
       "      <td>52.0</td>\n",
       "      <td>14.0</td>\n",
       "      <td>27.0</td>\n",
       "      <td>76.0</td>\n",
       "      <td>10.3</td>\n",
       "      <td>...</td>\n",
       "      <td>9.0</td>\n",
       "      <td>0.8</td>\n",
       "      <td>Flask</td>\n",
       "      <td>H-ZSM5</td>\n",
       "      <td>350</td>\n",
       "      <td>60</td>\n",
       "      <td>180</td>\n",
       "      <td>37.9</td>\n",
       "      <td>42.7</td>\n",
       "      <td>43.0</td>\n",
       "    </tr>\n",
       "    <tr>\n",
       "      <th>2</th>\n",
       "      <td>Chlorella vulgaris</td>\n",
       "      <td>microalgae</td>\n",
       "      <td>5.8</td>\n",
       "      <td>67.3</td>\n",
       "      <td>9.5</td>\n",
       "      <td>49.5</td>\n",
       "      <td>11.0</td>\n",
       "      <td>14.2</td>\n",
       "      <td>70.6</td>\n",
       "      <td>9.2</td>\n",
       "      <td>...</td>\n",
       "      <td>12.3</td>\n",
       "      <td>0.4</td>\n",
       "      <td>open pond</td>\n",
       "      <td>LiOH</td>\n",
       "      <td>250</td>\n",
       "      <td>60</td>\n",
       "      <td>100</td>\n",
       "      <td>33.8</td>\n",
       "      <td>33.0</td>\n",
       "      <td>33.0</td>\n",
       "    </tr>\n",
       "    <tr>\n",
       "      <th>3</th>\n",
       "      <td>Porphyridium purpureum</td>\n",
       "      <td>microalgae</td>\n",
       "      <td>8.5</td>\n",
       "      <td>61.6</td>\n",
       "      <td>18.5</td>\n",
       "      <td>45.6</td>\n",
       "      <td>12.1</td>\n",
       "      <td>NaN</td>\n",
       "      <td>69.1</td>\n",
       "      <td>8.4</td>\n",
       "      <td>...</td>\n",
       "      <td>15.2</td>\n",
       "      <td>0.5</td>\n",
       "      <td>PBR</td>\n",
       "      <td>NaN</td>\n",
       "      <td>250</td>\n",
       "      <td>30</td>\n",
       "      <td>100</td>\n",
       "      <td>34.8</td>\n",
       "      <td>41.5</td>\n",
       "      <td>24.7</td>\n",
       "    </tr>\n",
       "    <tr>\n",
       "      <th>4</th>\n",
       "      <td>Dunaliella tertiolecta</td>\n",
       "      <td>microalgae</td>\n",
       "      <td>4.9</td>\n",
       "      <td>54.4</td>\n",
       "      <td>13.5</td>\n",
       "      <td>34.0</td>\n",
       "      <td>23.0</td>\n",
       "      <td>21.0</td>\n",
       "      <td>72.0</td>\n",
       "      <td>8.8</td>\n",
       "      <td>...</td>\n",
       "      <td>9.9</td>\n",
       "      <td>0.3</td>\n",
       "      <td>NaN</td>\n",
       "      <td>Na2CO3</td>\n",
       "      <td>375</td>\n",
       "      <td>50</td>\n",
       "      <td>221</td>\n",
       "      <td>36.0</td>\n",
       "      <td>64.8</td>\n",
       "      <td>55.3</td>\n",
       "    </tr>\n",
       "  </tbody>\n",
       "</table>\n",
       "<p>5 rows × 21 columns</p>\n",
       "</div>"
      ],
      "text/plain": [
       "                Feedstock        Type  Moisture  Volatile   Ash  Proteins   \\\n",
       "0     Spirulina platensis  microalgae      11.8      67.0   8.6       53.0   \n",
       "1         Nannochloropsis  microalgae       3.9      67.4  24.4       52.0   \n",
       "2      Chlorella vulgaris  microalgae       5.8      67.3   9.5       49.5   \n",
       "3  Porphyridium purpureum  microalgae       8.5      61.6  18.5       45.6   \n",
       "4  Dunaliella tertiolecta  microalgae       4.9      54.4  13.5       34.0   \n",
       "\n",
       "   lipids   carbohydrates    C      H  ...     O    S  Culture Condition  \\\n",
       "0      7.5           11.0  72.7   8.8  ...  11.5  0.6          open pond   \n",
       "1     14.0           27.0  76.0  10.3  ...   9.0  0.8              Flask   \n",
       "2     11.0           14.2  70.6   9.2  ...  12.3  0.4          open pond   \n",
       "3     12.1            NaN  69.1   8.4  ...  15.2  0.5                PBR   \n",
       "4     23.0           21.0  72.0   8.8  ...   9.9  0.3                NaN   \n",
       "\n",
       "  Catalyst Temp  Time  Pressure   HHV   ERR  Yield%  \n",
       "0   Na2CO3  300    30       130  35.2  37.2    36.0  \n",
       "1   H-ZSM5  350    60       180  37.9  42.7    43.0  \n",
       "2     LiOH  250    60       100  33.8  33.0    33.0  \n",
       "3      NaN  250    30       100  34.8  41.5    24.7  \n",
       "4   Na2CO3  375    50       221  36.0  64.8    55.3  \n",
       "\n",
       "[5 rows x 21 columns]"
      ]
     },
     "execution_count": 2,
     "metadata": {},
     "output_type": "execute_result"
    }
   ],
   "source": [
    "df=pd.read_excel(\"E:\\HTL Project\\HTL Raw data.xlsx\")\n",
    "df.head()"
   ]
  },
  {
   "cell_type": "code",
   "execution_count": 3,
   "id": "7077aaa1",
   "metadata": {},
   "outputs": [
    {
     "data": {
      "text/plain": [
       "Index(['Feedstock', 'Type', 'Moisture', 'Volatile', 'Ash', 'Proteins ',\n",
       "       'lipids ', 'carbohydrates', 'C ', 'H', 'N', 'O', 'S',\n",
       "       'Culture Condition', 'Catalyst', 'Temp', 'Time', 'Pressure', 'HHV',\n",
       "       'ERR', 'Yield%'],\n",
       "      dtype='object')"
      ]
     },
     "execution_count": 3,
     "metadata": {},
     "output_type": "execute_result"
    }
   ],
   "source": [
    "df.columns"
   ]
  },
  {
   "cell_type": "code",
   "execution_count": 4,
   "id": "8af67113",
   "metadata": {},
   "outputs": [],
   "source": [
    "from sklearn.preprocessing import LabelEncoder\n",
    "le=LabelEncoder()"
   ]
  },
  {
   "cell_type": "code",
   "execution_count": 5,
   "id": "7225c037",
   "metadata": {},
   "outputs": [],
   "source": [
    "df['Feedstock']=le.fit_transform(df['Feedstock'])\n",
    "df['Type']=le.fit_transform(df['Type'])\n",
    "df['Culture Condition']=le.fit_transform(df['Culture Condition'])\n",
    "df['Catalyst']=le.fit_transform(df['Catalyst'])"
   ]
  },
  {
   "cell_type": "code",
   "execution_count": 16,
   "id": "fa8759c2",
   "metadata": {},
   "outputs": [
    {
     "data": {
      "text/html": [
       "<div>\n",
       "<style scoped>\n",
       "    .dataframe tbody tr th:only-of-type {\n",
       "        vertical-align: middle;\n",
       "    }\n",
       "\n",
       "    .dataframe tbody tr th {\n",
       "        vertical-align: top;\n",
       "    }\n",
       "\n",
       "    .dataframe thead th {\n",
       "        text-align: right;\n",
       "    }\n",
       "</style>\n",
       "<table border=\"1\" class=\"dataframe\">\n",
       "  <thead>\n",
       "    <tr style=\"text-align: right;\">\n",
       "      <th></th>\n",
       "      <th>Feedstock</th>\n",
       "      <th>Type</th>\n",
       "      <th>Moisture</th>\n",
       "      <th>Volatile</th>\n",
       "      <th>Ash</th>\n",
       "      <th>Proteins</th>\n",
       "      <th>lipids</th>\n",
       "      <th>carbohydrates</th>\n",
       "      <th>C</th>\n",
       "      <th>H</th>\n",
       "      <th>...</th>\n",
       "      <th>O</th>\n",
       "      <th>S</th>\n",
       "      <th>Culture Condition</th>\n",
       "      <th>Catalyst</th>\n",
       "      <th>Temp</th>\n",
       "      <th>Time</th>\n",
       "      <th>Pressure</th>\n",
       "      <th>HHV</th>\n",
       "      <th>ERR</th>\n",
       "      <th>Yield%</th>\n",
       "    </tr>\n",
       "  </thead>\n",
       "  <tbody>\n",
       "    <tr>\n",
       "      <th>0</th>\n",
       "      <td>21</td>\n",
       "      <td>1</td>\n",
       "      <td>11.8</td>\n",
       "      <td>67.0</td>\n",
       "      <td>8.6</td>\n",
       "      <td>53.0</td>\n",
       "      <td>7.5</td>\n",
       "      <td>11.0</td>\n",
       "      <td>72.7</td>\n",
       "      <td>8.8</td>\n",
       "      <td>...</td>\n",
       "      <td>11.5</td>\n",
       "      <td>0.6</td>\n",
       "      <td>3</td>\n",
       "      <td>14</td>\n",
       "      <td>300</td>\n",
       "      <td>30</td>\n",
       "      <td>130</td>\n",
       "      <td>35.2</td>\n",
       "      <td>37.2</td>\n",
       "      <td>36.0</td>\n",
       "    </tr>\n",
       "    <tr>\n",
       "      <th>1</th>\n",
       "      <td>10</td>\n",
       "      <td>1</td>\n",
       "      <td>3.9</td>\n",
       "      <td>67.4</td>\n",
       "      <td>24.4</td>\n",
       "      <td>52.0</td>\n",
       "      <td>14.0</td>\n",
       "      <td>27.0</td>\n",
       "      <td>76.0</td>\n",
       "      <td>10.3</td>\n",
       "      <td>...</td>\n",
       "      <td>9.0</td>\n",
       "      <td>0.8</td>\n",
       "      <td>0</td>\n",
       "      <td>7</td>\n",
       "      <td>350</td>\n",
       "      <td>60</td>\n",
       "      <td>180</td>\n",
       "      <td>37.9</td>\n",
       "      <td>42.7</td>\n",
       "      <td>43.0</td>\n",
       "    </tr>\n",
       "    <tr>\n",
       "      <th>2</th>\n",
       "      <td>3</td>\n",
       "      <td>1</td>\n",
       "      <td>5.8</td>\n",
       "      <td>67.3</td>\n",
       "      <td>9.5</td>\n",
       "      <td>49.5</td>\n",
       "      <td>11.0</td>\n",
       "      <td>14.2</td>\n",
       "      <td>70.6</td>\n",
       "      <td>9.2</td>\n",
       "      <td>...</td>\n",
       "      <td>12.3</td>\n",
       "      <td>0.4</td>\n",
       "      <td>3</td>\n",
       "      <td>11</td>\n",
       "      <td>250</td>\n",
       "      <td>60</td>\n",
       "      <td>100</td>\n",
       "      <td>33.8</td>\n",
       "      <td>33.0</td>\n",
       "      <td>33.0</td>\n",
       "    </tr>\n",
       "    <tr>\n",
       "      <th>3</th>\n",
       "      <td>12</td>\n",
       "      <td>1</td>\n",
       "      <td>8.5</td>\n",
       "      <td>61.6</td>\n",
       "      <td>18.5</td>\n",
       "      <td>45.6</td>\n",
       "      <td>12.1</td>\n",
       "      <td>35.2</td>\n",
       "      <td>69.1</td>\n",
       "      <td>8.4</td>\n",
       "      <td>...</td>\n",
       "      <td>15.2</td>\n",
       "      <td>0.5</td>\n",
       "      <td>1</td>\n",
       "      <td>22</td>\n",
       "      <td>250</td>\n",
       "      <td>30</td>\n",
       "      <td>100</td>\n",
       "      <td>34.8</td>\n",
       "      <td>41.5</td>\n",
       "      <td>24.7</td>\n",
       "    </tr>\n",
       "    <tr>\n",
       "      <th>4</th>\n",
       "      <td>7</td>\n",
       "      <td>1</td>\n",
       "      <td>4.9</td>\n",
       "      <td>54.4</td>\n",
       "      <td>13.5</td>\n",
       "      <td>34.0</td>\n",
       "      <td>23.0</td>\n",
       "      <td>21.0</td>\n",
       "      <td>72.0</td>\n",
       "      <td>8.8</td>\n",
       "      <td>...</td>\n",
       "      <td>9.9</td>\n",
       "      <td>0.3</td>\n",
       "      <td>4</td>\n",
       "      <td>14</td>\n",
       "      <td>375</td>\n",
       "      <td>50</td>\n",
       "      <td>221</td>\n",
       "      <td>36.0</td>\n",
       "      <td>64.8</td>\n",
       "      <td>55.3</td>\n",
       "    </tr>\n",
       "  </tbody>\n",
       "</table>\n",
       "<p>5 rows × 21 columns</p>\n",
       "</div>"
      ],
      "text/plain": [
       "   Feedstock  Type  Moisture  Volatile   Ash  Proteins   lipids   \\\n",
       "0         21     1      11.8      67.0   8.6       53.0      7.5   \n",
       "1         10     1       3.9      67.4  24.4       52.0     14.0   \n",
       "2          3     1       5.8      67.3   9.5       49.5     11.0   \n",
       "3         12     1       8.5      61.6  18.5       45.6     12.1   \n",
       "4          7     1       4.9      54.4  13.5       34.0     23.0   \n",
       "\n",
       "   carbohydrates    C      H  ...     O    S  Culture Condition  Catalyst  \\\n",
       "0           11.0  72.7   8.8  ...  11.5  0.6                  3        14   \n",
       "1           27.0  76.0  10.3  ...   9.0  0.8                  0         7   \n",
       "2           14.2  70.6   9.2  ...  12.3  0.4                  3        11   \n",
       "3           35.2  69.1   8.4  ...  15.2  0.5                  1        22   \n",
       "4           21.0  72.0   8.8  ...   9.9  0.3                  4        14   \n",
       "\n",
       "   Temp  Time  Pressure   HHV   ERR  Yield%  \n",
       "0   300    30       130  35.2  37.2    36.0  \n",
       "1   350    60       180  37.9  42.7    43.0  \n",
       "2   250    60       100  33.8  33.0    33.0  \n",
       "3   250    30       100  34.8  41.5    24.7  \n",
       "4   375    50       221  36.0  64.8    55.3  \n",
       "\n",
       "[5 rows x 21 columns]"
      ]
     },
     "execution_count": 16,
     "metadata": {},
     "output_type": "execute_result"
    }
   ],
   "source": [
    "df.head()"
   ]
  },
  {
   "cell_type": "code",
   "execution_count": 7,
   "id": "74f1bd89",
   "metadata": {},
   "outputs": [],
   "source": [
    "df['Moisture']=df['Moisture'].fillna(df['Moisture'].mode()[0])\n",
    "df['Volatile']=df['Volatile'].fillna(df['Volatile'].mode()[0])\n",
    "df['carbohydrates']=df['carbohydrates'].fillna(df['carbohydrates'].mode()[0])\n",
    "df['S']=df['S'].fillna(df['S'].mode()[0])\n",
    "df['ERR']=df['ERR'].fillna(df['ERR'].mode()[0])\n",
    "df['lipids ']=df['lipids '].fillna(df['lipids '].mode()[0])"
   ]
  },
  {
   "cell_type": "markdown",
   "id": "0b5d7fcc",
   "metadata": {},
   "source": [
    "# All Features Vs HHV"
   ]
  },
  {
   "cell_type": "code",
   "execution_count": 8,
   "id": "aea85e00",
   "metadata": {},
   "outputs": [],
   "source": [
    "x=df.drop('HHV',axis=1)\n",
    "y=df['HHV']"
   ]
  },
  {
   "cell_type": "code",
   "execution_count": 9,
   "id": "50135db0",
   "metadata": {},
   "outputs": [
    {
     "data": {
      "application/javascript": [
       "\n",
       "        if (window._pyforest_update_imports_cell) { window._pyforest_update_imports_cell('import numpy as np\\nimport pandas as pd'); }\n",
       "    "
      ],
      "text/plain": [
       "<IPython.core.display.Javascript object>"
      ]
     },
     "metadata": {},
     "output_type": "display_data"
    },
    {
     "data": {
      "application/javascript": [
       "\n",
       "        if (window._pyforest_update_imports_cell) { window._pyforest_update_imports_cell('import numpy as np\\nimport pandas as pd'); }\n",
       "    "
      ],
      "text/plain": [
       "<IPython.core.display.Javascript object>"
      ]
     },
     "metadata": {},
     "output_type": "display_data"
    },
    {
     "name": "stdout",
     "output_type": "stream",
     "text": [
      "Mean absolute Error:  0.3190484147543313\n"
     ]
    },
    {
     "data": {
      "application/javascript": [
       "\n",
       "        if (window._pyforest_update_imports_cell) { window._pyforest_update_imports_cell('import numpy as np\\nimport pandas as pd'); }\n",
       "    "
      ],
      "text/plain": [
       "<IPython.core.display.Javascript object>"
      ]
     },
     "metadata": {},
     "output_type": "display_data"
    },
    {
     "name": "stdout",
     "output_type": "stream",
     "text": [
      "Root mean square error:  0.0013583761022416204\n",
      "R2 square:  0.9951596701276\n"
     ]
    },
    {
     "data": {
      "application/javascript": [
       "\n",
       "        if (window._pyforest_update_imports_cell) { window._pyforest_update_imports_cell('import numpy as np\\nimport pandas as pd'); }\n",
       "    "
      ],
      "text/plain": [
       "<IPython.core.display.Javascript object>"
      ]
     },
     "metadata": {},
     "output_type": "display_data"
    },
    {
     "data": {
      "application/javascript": [
       "\n",
       "        if (window._pyforest_update_imports_cell) { window._pyforest_update_imports_cell('import numpy as np\\nimport pandas as pd'); }\n",
       "    "
      ],
      "text/plain": [
       "<IPython.core.display.Javascript object>"
      ]
     },
     "metadata": {},
     "output_type": "display_data"
    },
    {
     "name": "stdout",
     "output_type": "stream",
     "text": [
      "Mean absolute Error:  0.21743181332967873\n"
     ]
    },
    {
     "data": {
      "application/javascript": [
       "\n",
       "        if (window._pyforest_update_imports_cell) { window._pyforest_update_imports_cell('import numpy as np\\nimport pandas as pd'); }\n",
       "    "
      ],
      "text/plain": [
       "<IPython.core.display.Javascript object>"
      ]
     },
     "metadata": {},
     "output_type": "display_data"
    },
    {
     "name": "stdout",
     "output_type": "stream",
     "text": [
      "Root mean square error:  3.865418435582958e-29\n",
      "R2 square:  0.99592275048259\n"
     ]
    }
   ],
   "source": [
    "from sklearn.model_selection import train_test_split\n",
    "from sklearn import linear_model\n",
    "from sklearn.linear_model import LinearRegression\n",
    "from sklearn.metrics import r2_score\n",
    "reg=linear_model.LinearRegression()\n",
    "x_train,x_test,y_train,y_test = train_test_split(x,y,test_size=0.2)\n",
    "reg.fit(x_train,y_train)\n",
    "y_pred = reg.predict(x_test)\n",
    "y_pred\n",
    "print(\"Mean absolute Error: \" ,np.mean(np.absolute(y_pred-y_test)))\n",
    "print(\"Root mean square error: \" ,np.mean(y_pred-y_test)**2)\n",
    "print(\"R2 square: \" ,r2_score(y_pred,y_test))\n",
    "reg1=linear_model.LinearRegression()\n",
    "reg1.fit(x_train,y_train)\n",
    "y_pred1 = reg1.predict(x_train)\n",
    "y_pred\n",
    "print(\"Mean absolute Error: \" ,np.mean(np.absolute(y_pred1-y_train)))\n",
    "print(\"Root mean square error: \" ,np.mean(y_pred1-y_train)**2)\n",
    "print(\"R2 square: \" ,r2_score(y_pred1,y_train))"
   ]
  },
  {
   "cell_type": "code",
   "execution_count": 10,
   "id": "e0b89ee5",
   "metadata": {},
   "outputs": [
    {
     "data": {
      "application/javascript": [
       "\n",
       "        if (window._pyforest_update_imports_cell) { window._pyforest_update_imports_cell('import matplotlib.pyplot as plt\\nimport numpy as np\\nimport pandas as pd'); }\n",
       "    "
      ],
      "text/plain": [
       "<IPython.core.display.Javascript object>"
      ]
     },
     "metadata": {},
     "output_type": "display_data"
    },
    {
     "data": {
      "application/javascript": [
       "\n",
       "        if (window._pyforest_update_imports_cell) { window._pyforest_update_imports_cell('import matplotlib.pyplot as plt\\nimport numpy as np\\nimport pandas as pd'); }\n",
       "    "
      ],
      "text/plain": [
       "<IPython.core.display.Javascript object>"
      ]
     },
     "metadata": {},
     "output_type": "display_data"
    },
    {
     "data": {
      "application/javascript": [
       "\n",
       "        if (window._pyforest_update_imports_cell) { window._pyforest_update_imports_cell('import matplotlib.pyplot as plt\\nimport numpy as np\\nimport pandas as pd'); }\n",
       "    "
      ],
      "text/plain": [
       "<IPython.core.display.Javascript object>"
      ]
     },
     "metadata": {},
     "output_type": "display_data"
    },
    {
     "data": {
      "application/javascript": [
       "\n",
       "        if (window._pyforest_update_imports_cell) { window._pyforest_update_imports_cell('import matplotlib.pyplot as plt\\nimport numpy as np\\nimport pandas as pd'); }\n",
       "    "
      ],
      "text/plain": [
       "<IPython.core.display.Javascript object>"
      ]
     },
     "metadata": {},
     "output_type": "display_data"
    },
    {
     "data": {
      "application/javascript": [
       "\n",
       "        if (window._pyforest_update_imports_cell) { window._pyforest_update_imports_cell('import matplotlib.pyplot as plt\\nimport numpy as np\\nimport pandas as pd'); }\n",
       "    "
      ],
      "text/plain": [
       "<IPython.core.display.Javascript object>"
      ]
     },
     "metadata": {},
     "output_type": "display_data"
    },
    {
     "data": {
      "application/javascript": [
       "\n",
       "        if (window._pyforest_update_imports_cell) { window._pyforest_update_imports_cell('import matplotlib.pyplot as plt\\nimport numpy as np\\nimport pandas as pd'); }\n",
       "    "
      ],
      "text/plain": [
       "<IPython.core.display.Javascript object>"
      ]
     },
     "metadata": {},
     "output_type": "display_data"
    },
    {
     "data": {
      "text/plain": [
       "<matplotlib.legend.Legend at 0x14fd9d8fc10>"
      ]
     },
     "execution_count": 10,
     "metadata": {},
     "output_type": "execute_result"
    },
    {
     "data": {
      "image/png": "[encoded data removed]",
      "text/plain": [
       "<Figure size 432x288 with 1 Axes>"
      ]
     },
     "metadata": {
      "needs_background": "light"
     },
     "output_type": "display_data"
    }
   ],
   "source": [
    "plt.scatter(y_pred1,y_train,label='train',color='#c3892b')\n",
    "plt.scatter(y_pred,y_test,label='test',color='#494623',marker =\"^\")\n",
    "plt.xlabel('Actual')\n",
    "plt.ylabel('Predicted')\n",
    "plt.title(\"Linear Regression HHV\")\n",
    "plt.legend()"
   ]
  },
  {
   "cell_type": "code",
   "execution_count": 11,
   "id": "4c845707",
   "metadata": {},
   "outputs": [
    {
     "data": {
      "text/plain": [
       "array([26.16342144])"
      ]
     },
     "execution_count": 11,
     "metadata": {},
     "output_type": "execute_result"
    }
   ],
   "source": [
    "reg.predict([[3,1,5.8,67.3,9.5,49.5,11,14.2,58.8,6.5,6.7,27.3,0.2,3,19,350,60,180,28.6,28]])"
   ]
  },
  {
   "cell_type": "code",
   "execution_count": 12,
   "id": "044c115a",
   "metadata": {},
   "outputs": [
    {
     "data": {
      "text/plain": [
       "array([34.0973478])"
      ]
     },
     "execution_count": 12,
     "metadata": {},
     "output_type": "execute_result"
    }
   ],
   "source": [
    "reg.predict([[18,1,6.9,68.5,25.5,53,13,13.5,73,8.2,5.7,12.6,0.5,2,4,350,60,180,26.5,27.1]])#Scenedesmus obliquus"
   ]
  },
  {
   "cell_type": "code",
   "execution_count": 13,
   "id": "d44f61bb",
   "metadata": {},
   "outputs": [
    {
     "data": {
      "text/plain": [
       "array([25.78007835])"
      ]
     },
     "execution_count": 13,
     "metadata": {},
     "output_type": "execute_result"
    }
   ],
   "source": [
    "reg.predict([[23,0,10,72.3,11.9,8.4,4.3,35.2,51.4,10.2,0.8,36.4,0.2,1,4,380,60,150,17,22]])#Scenedesmus obliquus"
   ]
  },
  {
   "cell_type": "code",
   "execution_count": 14,
   "id": "b4f2a4e7",
   "metadata": {},
   "outputs": [
    {
     "data": {
      "text/plain": [
       "array([24.04269483])"
      ]
     },
     "execution_count": 14,
     "metadata": {},
     "output_type": "execute_result"
    }
   ],
   "source": [
    "reg.predict([[15,1,6.7,78.9,6.4,51.7,21.8,15.9,52.3,7.4,7.5,31.7,0.1,2,16,300,60,180,50,34]])#Scenedesmus abundans"
   ]
  },
  {
   "cell_type": "code",
   "execution_count": 15,
   "id": "e09860f2",
   "metadata": {},
   "outputs": [
    {
     "data": {
      "text/plain": [
       "array([29.93129762])"
      ]
     },
     "execution_count": 15,
     "metadata": {},
     "output_type": "execute_result"
    }
   ],
   "source": [
    "reg.predict([[4,1,10,72.3,7.6,41.8,8.2,37.8,66.5,7.2,6.8,19,0.4,1,22,300,60,150,14.6,38.5]])#Chlorogloeopsis fritschii14"
   ]
  },
  {
   "cell_type": "code",
   "execution_count": 25,
   "id": "747ee145",
   "metadata": {},
   "outputs": [
    {
     "data": {
      "text/html": [
       "<div>\n",
       "<style scoped>\n",
       "    .dataframe tbody tr th:only-of-type {\n",
       "        vertical-align: middle;\n",
       "    }\n",
       "\n",
       "    .dataframe tbody tr th {\n",
       "        vertical-align: top;\n",
       "    }\n",
       "\n",
       "    .dataframe thead th {\n",
       "        text-align: right;\n",
       "    }\n",
       "</style>\n",
       "<table border=\"1\" class=\"dataframe\">\n",
       "  <thead>\n",
       "    <tr style=\"text-align: right;\">\n",
       "      <th></th>\n",
       "      <th>Feedstock</th>\n",
       "      <th>Type</th>\n",
       "      <th>Moisture</th>\n",
       "      <th>Volatile</th>\n",
       "      <th>Ash</th>\n",
       "      <th>Proteins</th>\n",
       "      <th>lipids</th>\n",
       "      <th>carbohydrates</th>\n",
       "      <th>C</th>\n",
       "      <th>H</th>\n",
       "      <th>...</th>\n",
       "      <th>O</th>\n",
       "      <th>S</th>\n",
       "      <th>Culture Condition</th>\n",
       "      <th>Catalyst</th>\n",
       "      <th>Temp</th>\n",
       "      <th>Time</th>\n",
       "      <th>Pressure</th>\n",
       "      <th>HHV</th>\n",
       "      <th>ERR</th>\n",
       "      <th>Yield%</th>\n",
       "    </tr>\n",
       "  </thead>\n",
       "  <tbody>\n",
       "    <tr>\n",
       "      <th>Feedstock</th>\n",
       "      <td>1.000000</td>\n",
       "      <td>-0.455413</td>\n",
       "      <td>0.376784</td>\n",
       "      <td>-0.054698</td>\n",
       "      <td>0.024029</td>\n",
       "      <td>-0.114043</td>\n",
       "      <td>-0.025388</td>\n",
       "      <td>0.112923</td>\n",
       "      <td>-0.142769</td>\n",
       "      <td>0.184214</td>\n",
       "      <td>...</td>\n",
       "      <td>0.188451</td>\n",
       "      <td>-0.233339</td>\n",
       "      <td>-0.412713</td>\n",
       "      <td>0.065943</td>\n",
       "      <td>0.206552</td>\n",
       "      <td>0.028945</td>\n",
       "      <td>-0.048738</td>\n",
       "      <td>-0.072195</td>\n",
       "      <td>-0.279980</td>\n",
       "      <td>-0.261382</td>\n",
       "    </tr>\n",
       "    <tr>\n",
       "      <th>Type</th>\n",
       "      <td>-0.455413</td>\n",
       "      <td>1.000000</td>\n",
       "      <td>-0.256343</td>\n",
       "      <td>-0.058361</td>\n",
       "      <td>-0.005466</td>\n",
       "      <td>0.761793</td>\n",
       "      <td>0.444409</td>\n",
       "      <td>-0.420750</td>\n",
       "      <td>0.442225</td>\n",
       "      <td>-0.340325</td>\n",
       "      <td>...</td>\n",
       "      <td>-0.334502</td>\n",
       "      <td>0.021681</td>\n",
       "      <td>0.361794</td>\n",
       "      <td>-0.098623</td>\n",
       "      <td>-0.338032</td>\n",
       "      <td>-0.255156</td>\n",
       "      <td>0.067949</td>\n",
       "      <td>0.259169</td>\n",
       "      <td>0.406987</td>\n",
       "      <td>0.469348</td>\n",
       "    </tr>\n",
       "    <tr>\n",
       "      <th>Moisture</th>\n",
       "      <td>0.376784</td>\n",
       "      <td>-0.256343</td>\n",
       "      <td>1.000000</td>\n",
       "      <td>0.119309</td>\n",
       "      <td>-0.280015</td>\n",
       "      <td>-0.401563</td>\n",
       "      <td>-0.472729</td>\n",
       "      <td>0.549915</td>\n",
       "      <td>-0.372128</td>\n",
       "      <td>-0.406572</td>\n",
       "      <td>...</td>\n",
       "      <td>0.481516</td>\n",
       "      <td>0.140300</td>\n",
       "      <td>0.115101</td>\n",
       "      <td>0.058381</td>\n",
       "      <td>0.191702</td>\n",
       "      <td>-0.304953</td>\n",
       "      <td>-0.025026</td>\n",
       "      <td>-0.459053</td>\n",
       "      <td>-0.408569</td>\n",
       "      <td>-0.283694</td>\n",
       "    </tr>\n",
       "    <tr>\n",
       "      <th>Volatile</th>\n",
       "      <td>-0.054698</td>\n",
       "      <td>-0.058361</td>\n",
       "      <td>0.119309</td>\n",
       "      <td>1.000000</td>\n",
       "      <td>-0.546402</td>\n",
       "      <td>-0.036462</td>\n",
       "      <td>-0.054567</td>\n",
       "      <td>-0.060277</td>\n",
       "      <td>-0.118548</td>\n",
       "      <td>0.113067</td>\n",
       "      <td>...</td>\n",
       "      <td>0.202678</td>\n",
       "      <td>0.387429</td>\n",
       "      <td>-0.003788</td>\n",
       "      <td>-0.016978</td>\n",
       "      <td>0.160503</td>\n",
       "      <td>-0.015952</td>\n",
       "      <td>0.043816</td>\n",
       "      <td>-0.091143</td>\n",
       "      <td>0.016302</td>\n",
       "      <td>-0.195049</td>\n",
       "    </tr>\n",
       "    <tr>\n",
       "      <th>Ash</th>\n",
       "      <td>0.024029</td>\n",
       "      <td>-0.005466</td>\n",
       "      <td>-0.280015</td>\n",
       "      <td>-0.546402</td>\n",
       "      <td>1.000000</td>\n",
       "      <td>-0.027673</td>\n",
       "      <td>0.070686</td>\n",
       "      <td>0.061754</td>\n",
       "      <td>-0.084943</td>\n",
       "      <td>-0.082840</td>\n",
       "      <td>...</td>\n",
       "      <td>-0.099744</td>\n",
       "      <td>-0.092561</td>\n",
       "      <td>-0.246517</td>\n",
       "      <td>-0.032529</td>\n",
       "      <td>-0.194984</td>\n",
       "      <td>0.105254</td>\n",
       "      <td>-0.034239</td>\n",
       "      <td>-0.064498</td>\n",
       "      <td>-0.124509</td>\n",
       "      <td>0.196888</td>\n",
       "    </tr>\n",
       "  </tbody>\n",
       "</table>\n",
       "<p>5 rows × 21 columns</p>\n",
       "</div>"
      ],
      "text/plain": [
       "           Feedstock      Type  Moisture  Volatile       Ash  Proteins   \\\n",
       "Feedstock   1.000000 -0.455413  0.376784 -0.054698  0.024029  -0.114043   \n",
       "Type       -0.455413  1.000000 -0.256343 -0.058361 -0.005466   0.761793   \n",
       "Moisture    0.376784 -0.256343  1.000000  0.119309 -0.280015  -0.401563   \n",
       "Volatile   -0.054698 -0.058361  0.119309  1.000000 -0.546402  -0.036462   \n",
       "Ash         0.024029 -0.005466 -0.280015 -0.546402  1.000000  -0.027673   \n",
       "\n",
       "            lipids   carbohydrates        C          H  ...         O  \\\n",
       "Feedstock -0.025388       0.112923 -0.142769  0.184214  ...  0.188451   \n",
       "Type       0.444409      -0.420750  0.442225 -0.340325  ... -0.334502   \n",
       "Moisture  -0.472729       0.549915 -0.372128 -0.406572  ...  0.481516   \n",
       "Volatile  -0.054567      -0.060277 -0.118548  0.113067  ...  0.202678   \n",
       "Ash        0.070686       0.061754 -0.084943 -0.082840  ... -0.099744   \n",
       "\n",
       "                  S  Culture Condition  Catalyst      Temp      Time  \\\n",
       "Feedstock -0.233339          -0.412713  0.065943  0.206552  0.028945   \n",
       "Type       0.021681           0.361794 -0.098623 -0.338032 -0.255156   \n",
       "Moisture   0.140300           0.115101  0.058381  0.191702 -0.304953   \n",
       "Volatile   0.387429          -0.003788 -0.016978  0.160503 -0.015952   \n",
       "Ash       -0.092561          -0.246517 -0.032529 -0.194984  0.105254   \n",
       "\n",
       "           Pressure       HHV       ERR    Yield%  \n",
       "Feedstock -0.048738 -0.072195 -0.279980 -0.261382  \n",
       "Type       0.067949  0.259169  0.406987  0.469348  \n",
       "Moisture  -0.025026 -0.459053 -0.408569 -0.283694  \n",
       "Volatile   0.043816 -0.091143  0.016302 -0.195049  \n",
       "Ash       -0.034239 -0.064498 -0.124509  0.196888  \n",
       "\n",
       "[5 rows x 21 columns]"
      ]
     },
     "execution_count": 25,
     "metadata": {},
     "output_type": "execute_result"
    }
   ],
   "source": [
    "data=df.corr()\n",
    "data.head()"
   ]
  },
  {
   "cell_type": "code",
   "execution_count": 32,
   "id": "fca9e037",
   "metadata": {},
   "outputs": [
    {
     "data": {
      "application/javascript": [
       "\n",
       "        if (window._pyforest_update_imports_cell) { window._pyforest_update_imports_cell('import matplotlib.pyplot as plt\\nimport seaborn as sns\\nimport numpy as np\\nimport pandas as pd'); }\n",
       "    "
      ],
      "text/plain": [
       "<IPython.core.display.Javascript object>"
      ]
     },
     "metadata": {},
     "output_type": "display_data"
    },
    {
     "data": {
      "application/javascript": [
       "\n",
       "        if (window._pyforest_update_imports_cell) { window._pyforest_update_imports_cell('import matplotlib.pyplot as plt\\nimport seaborn as sns\\nimport numpy as np\\nimport pandas as pd'); }\n",
       "    "
      ],
      "text/plain": [
       "<IPython.core.display.Javascript object>"
      ]
     },
     "metadata": {},
     "output_type": "display_data"
    },
    {
     "data": {
      "application/javascript": [
       "\n",
       "        if (window._pyforest_update_imports_cell) { window._pyforest_update_imports_cell('import matplotlib.pyplot as plt\\nimport seaborn as sns\\nimport numpy as np\\nimport pandas as pd'); }\n",
       "    "
      ],
      "text/plain": [
       "<IPython.core.display.Javascript object>"
      ]
     },
     "metadata": {},
     "output_type": "display_data"
    },
    {
     "data": {
      "application/javascript": [
       "\n",
       "        if (window._pyforest_update_imports_cell) { window._pyforest_update_imports_cell('import matplotlib.pyplot as plt\\nimport seaborn as sns\\nimport numpy as np\\nimport pandas as pd'); }\n",
       "    "
      ],
      "text/plain": [
       "<IPython.core.display.Javascript object>"
      ]
     },
     "metadata": {},
     "output_type": "display_data"
    },
    {
     "data": {
      "application/javascript": [
       "\n",
       "        if (window._pyforest_update_imports_cell) { window._pyforest_update_imports_cell('import matplotlib.pyplot as plt\\nimport seaborn as sns\\nimport numpy as np\\nimport pandas as pd'); }\n",
       "    "
      ],
      "text/plain": [
       "<IPython.core.display.Javascript object>"
      ]
     },
     "metadata": {},
     "output_type": "display_data"
    },
    {
     "data": {
      "text/plain": [
       "<AxesSubplot:>"
      ]
     },
     "execution_count": 32,
     "metadata": {},
     "output_type": "execute_result"
    },
    {
     "data": {
      "image/png": "[encoded data removed]",
      "text/plain": [
       "<Figure size 1080x576 with 2 Axes>"
      ]
     },
     "metadata": {},
     "output_type": "display_data"
    }
   ],
   "source": [
    "sns.set(rc={'figure.figsize':(15,8)})\n",
    "df=data.where(np.tril(np.ones(data.shape)).astype(np.bool))\n",
    "sns.heatmap(df,annot=True,fmt='.1g')"
   ]
  },
  {
   "cell_type": "code",
   "execution_count": null,
   "id": "6f73880f",
   "metadata": {},
   "outputs": [],
   "source": []
  }
 ],
 "metadata": {
  "kernelspec": {
   "display_name": "Python 3 (ipykernel)",
   "language": "python",
   "name": "python3"
  },
  "language_info": {
   "codemirror_mode": {
    "name": "ipython",
    "version": 3
   },
   "file_extension": ".py",
   "mimetype": "text/x-python",
   "name": "python",
   "nbconvert_exporter": "python",
   "pygments_lexer": "ipython3",
   "version": "3.9.7"
  }
 },
 "nbformat": 4,
 "nbformat_minor": 5
}
