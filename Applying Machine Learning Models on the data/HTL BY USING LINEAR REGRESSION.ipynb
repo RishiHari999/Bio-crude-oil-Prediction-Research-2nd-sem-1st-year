{
 "cells": [
  {
   "cell_type": "code",
   "execution_count": 2,
   "id": "410ffcfc",
   "metadata": {},
   "outputs": [
    {
     "data": {
      "application/javascript": [
       "\n",
       "        if (window._pyforest_update_imports_cell) { window._pyforest_update_imports_cell('import pandas as pd'); }\n",
       "    "
      ],
      "text/plain": [
       "<IPython.core.display.Javascript object>"
      ]
     },
     "metadata": {},
     "output_type": "display_data"
    },
    {
     "data": {
      "text/html": [
       "<div>\n",
       "<style scoped>\n",
       "    .dataframe tbody tr th:only-of-type {\n",
       "        vertical-align: middle;\n",
       "    }\n",
       "\n",
       "    .dataframe tbody tr th {\n",
       "        vertical-align: top;\n",
       "    }\n",
       "\n",
       "    .dataframe thead th {\n",
       "        text-align: right;\n",
       "    }\n",
       "</style>\n",
       "<table border=\"1\" class=\"dataframe\">\n",
       "  <thead>\n",
       "    <tr style=\"text-align: right;\">\n",
       "      <th></th>\n",
       "      <th>Feedstock</th>\n",
       "      <th>Type</th>\n",
       "      <th>Moisture</th>\n",
       "      <th>Volatile</th>\n",
       "      <th>Ash</th>\n",
       "      <th>Proteins</th>\n",
       "      <th>lipids</th>\n",
       "      <th>carbohydrates</th>\n",
       "      <th>C</th>\n",
       "      <th>H</th>\n",
       "      <th>...</th>\n",
       "      <th>O</th>\n",
       "      <th>S</th>\n",
       "      <th>Culture Condition</th>\n",
       "      <th>Catalyst</th>\n",
       "      <th>Temp</th>\n",
       "      <th>Time</th>\n",
       "      <th>Pressure</th>\n",
       "      <th>HHV</th>\n",
       "      <th>ERR</th>\n",
       "      <th>Yield%</th>\n",
       "    </tr>\n",
       "  </thead>\n",
       "  <tbody>\n",
       "    <tr>\n",
       "      <th>0</th>\n",
       "      <td>Spirulina platensis</td>\n",
       "      <td>microalgae</td>\n",
       "      <td>11.8</td>\n",
       "      <td>67.0</td>\n",
       "      <td>8.6</td>\n",
       "      <td>53.0</td>\n",
       "      <td>7.5</td>\n",
       "      <td>11.0</td>\n",
       "      <td>72.7</td>\n",
       "      <td>8.8</td>\n",
       "      <td>...</td>\n",
       "      <td>11.5</td>\n",
       "      <td>0.6</td>\n",
       "      <td>open pond</td>\n",
       "      <td>Na2CO3</td>\n",
       "      <td>300</td>\n",
       "      <td>30</td>\n",
       "      <td>130</td>\n",
       "      <td>35.2</td>\n",
       "      <td>37.2</td>\n",
       "      <td>36.0</td>\n",
       "    </tr>\n",
       "    <tr>\n",
       "      <th>1</th>\n",
       "      <td>Nannochloropsis</td>\n",
       "      <td>microalgae</td>\n",
       "      <td>3.9</td>\n",
       "      <td>67.4</td>\n",
       "      <td>24.4</td>\n",
       "      <td>52.0</td>\n",
       "      <td>14.0</td>\n",
       "      <td>27.0</td>\n",
       "      <td>76.0</td>\n",
       "      <td>10.3</td>\n",
       "      <td>...</td>\n",
       "      <td>9.0</td>\n",
       "      <td>0.8</td>\n",
       "      <td>Flask</td>\n",
       "      <td>H-ZSM5</td>\n",
       "      <td>350</td>\n",
       "      <td>60</td>\n",
       "      <td>180</td>\n",
       "      <td>37.9</td>\n",
       "      <td>42.7</td>\n",
       "      <td>43.0</td>\n",
       "    </tr>\n",
       "    <tr>\n",
       "      <th>2</th>\n",
       "      <td>Chlorella vulgaris</td>\n",
       "      <td>microalgae</td>\n",
       "      <td>5.8</td>\n",
       "      <td>67.3</td>\n",
       "      <td>9.5</td>\n",
       "      <td>49.5</td>\n",
       "      <td>11.0</td>\n",
       "      <td>14.2</td>\n",
       "      <td>70.6</td>\n",
       "      <td>9.2</td>\n",
       "      <td>...</td>\n",
       "      <td>12.3</td>\n",
       "      <td>0.4</td>\n",
       "      <td>open pond</td>\n",
       "      <td>LiOH</td>\n",
       "      <td>250</td>\n",
       "      <td>60</td>\n",
       "      <td>100</td>\n",
       "      <td>33.8</td>\n",
       "      <td>33.0</td>\n",
       "      <td>33.0</td>\n",
       "    </tr>\n",
       "    <tr>\n",
       "      <th>3</th>\n",
       "      <td>Porphyridium purpureum</td>\n",
       "      <td>microalgae</td>\n",
       "      <td>8.5</td>\n",
       "      <td>61.6</td>\n",
       "      <td>18.5</td>\n",
       "      <td>45.6</td>\n",
       "      <td>12.1</td>\n",
       "      <td>NaN</td>\n",
       "      <td>69.1</td>\n",
       "      <td>8.4</td>\n",
       "      <td>...</td>\n",
       "      <td>15.2</td>\n",
       "      <td>0.5</td>\n",
       "      <td>PBR</td>\n",
       "      <td>NaN</td>\n",
       "      <td>250</td>\n",
       "      <td>30</td>\n",
       "      <td>100</td>\n",
       "      <td>34.8</td>\n",
       "      <td>41.5</td>\n",
       "      <td>24.7</td>\n",
       "    </tr>\n",
       "    <tr>\n",
       "      <th>4</th>\n",
       "      <td>Dunaliella tertiolecta</td>\n",
       "      <td>microalgae</td>\n",
       "      <td>4.9</td>\n",
       "      <td>54.4</td>\n",
       "      <td>13.5</td>\n",
       "      <td>34.0</td>\n",
       "      <td>23.0</td>\n",
       "      <td>21.0</td>\n",
       "      <td>72.0</td>\n",
       "      <td>8.8</td>\n",
       "      <td>...</td>\n",
       "      <td>9.9</td>\n",
       "      <td>0.3</td>\n",
       "      <td>NaN</td>\n",
       "      <td>Na2CO3</td>\n",
       "      <td>375</td>\n",
       "      <td>50</td>\n",
       "      <td>221</td>\n",
       "      <td>36.0</td>\n",
       "      <td>64.8</td>\n",
       "      <td>55.3</td>\n",
       "    </tr>\n",
       "  </tbody>\n",
       "</table>\n",
       "<p>5 rows × 21 columns</p>\n",
       "</div>"
      ],
      "text/plain": [
       "                Feedstock        Type  Moisture  Volatile   Ash  Proteins   \\\n",
       "0     Spirulina platensis  microalgae      11.8      67.0   8.6       53.0   \n",
       "1         Nannochloropsis  microalgae       3.9      67.4  24.4       52.0   \n",
       "2      Chlorella vulgaris  microalgae       5.8      67.3   9.5       49.5   \n",
       "3  Porphyridium purpureum  microalgae       8.5      61.6  18.5       45.6   \n",
       "4  Dunaliella tertiolecta  microalgae       4.9      54.4  13.5       34.0   \n",
       "\n",
       "   lipids   carbohydrates    C      H  ...     O    S  Culture Condition  \\\n",
       "0      7.5           11.0  72.7   8.8  ...  11.5  0.6          open pond   \n",
       "1     14.0           27.0  76.0  10.3  ...   9.0  0.8              Flask   \n",
       "2     11.0           14.2  70.6   9.2  ...  12.3  0.4          open pond   \n",
       "3     12.1            NaN  69.1   8.4  ...  15.2  0.5                PBR   \n",
       "4     23.0           21.0  72.0   8.8  ...   9.9  0.3                NaN   \n",
       "\n",
       "  Catalyst Temp  Time  Pressure   HHV   ERR  Yield%  \n",
       "0   Na2CO3  300    30       130  35.2  37.2    36.0  \n",
       "1   H-ZSM5  350    60       180  37.9  42.7    43.0  \n",
       "2     LiOH  250    60       100  33.8  33.0    33.0  \n",
       "3      NaN  250    30       100  34.8  41.5    24.7  \n",
       "4   Na2CO3  375    50       221  36.0  64.8    55.3  \n",
       "\n",
       "[5 rows x 21 columns]"
      ]
     },
     "execution_count": 2,
     "metadata": {},
     "output_type": "execute_result"
    }
   ],
   "source": [
    "df=pd.read_excel(\"E:\\HTL Project\\HTL Raw data.xlsx\")\n",
    "df.head()"
   ]
  },
  {
   "cell_type": "code",
   "execution_count": 3,
   "id": "7077aaa1",
   "metadata": {},
   "outputs": [
    {
     "data": {
      "text/plain": [
       "Index(['Feedstock', 'Type', 'Moisture', 'Volatile', 'Ash', 'Proteins ',\n",
       "       'lipids ', 'carbohydrates', 'C ', 'H', 'N', 'O', 'S',\n",
       "       'Culture Condition', 'Catalyst', 'Temp', 'Time', 'Pressure', 'HHV',\n",
       "       'ERR', 'Yield%'],\n",
       "      dtype='object')"
      ]
     },
     "execution_count": 3,
     "metadata": {},
     "output_type": "execute_result"
    }
   ],
   "source": [
    "df.columns"
   ]
  },
  {
   "cell_type": "code",
   "execution_count": 4,
   "id": "8af67113",
   "metadata": {},
   "outputs": [],
   "source": [
    "from sklearn.preprocessing import LabelEncoder\n",
    "le=LabelEncoder()"
   ]
  },
  {
   "cell_type": "code",
   "execution_count": 5,
   "id": "7225c037",
   "metadata": {},
   "outputs": [],
   "source": [
    "df['Feedstock']=le.fit_transform(df['Feedstock'])\n",
    "df['Type']=le.fit_transform(df['Type'])\n",
    "df['Culture Condition']=le.fit_transform(df['Culture Condition'])\n",
    "df['Catalyst']=le.fit_transform(df['Catalyst'])"
   ]
  },
  {
   "cell_type": "code",
   "execution_count": 6,
   "id": "fa8759c2",
   "metadata": {},
   "outputs": [
    {
     "data": {
      "text/html": [
       "<div>\n",
       "<style scoped>\n",
       "    .dataframe tbody tr th:only-of-type {\n",
       "        vertical-align: middle;\n",
       "    }\n",
       "\n",
       "    .dataframe tbody tr th {\n",
       "        vertical-align: top;\n",
       "    }\n",
       "\n",
       "    .dataframe thead th {\n",
       "        text-align: right;\n",
       "    }\n",
       "</style>\n",
       "<table border=\"1\" class=\"dataframe\">\n",
       "  <thead>\n",
       "    <tr style=\"text-align: right;\">\n",
       "      <th></th>\n",
       "      <th>Feedstock</th>\n",
       "      <th>Type</th>\n",
       "      <th>Moisture</th>\n",
       "      <th>Volatile</th>\n",
       "      <th>Ash</th>\n",
       "      <th>Proteins</th>\n",
       "      <th>lipids</th>\n",
       "      <th>carbohydrates</th>\n",
       "      <th>C</th>\n",
       "      <th>H</th>\n",
       "      <th>...</th>\n",
       "      <th>O</th>\n",
       "      <th>S</th>\n",
       "      <th>Culture Condition</th>\n",
       "      <th>Catalyst</th>\n",
       "      <th>Temp</th>\n",
       "      <th>Time</th>\n",
       "      <th>Pressure</th>\n",
       "      <th>HHV</th>\n",
       "      <th>ERR</th>\n",
       "      <th>Yield%</th>\n",
       "    </tr>\n",
       "  </thead>\n",
       "  <tbody>\n",
       "    <tr>\n",
       "      <th>0</th>\n",
       "      <td>21</td>\n",
       "      <td>1</td>\n",
       "      <td>11.8</td>\n",
       "      <td>67.0</td>\n",
       "      <td>8.6</td>\n",
       "      <td>53.0</td>\n",
       "      <td>7.5</td>\n",
       "      <td>11.0</td>\n",
       "      <td>72.7</td>\n",
       "      <td>8.8</td>\n",
       "      <td>...</td>\n",
       "      <td>11.5</td>\n",
       "      <td>0.6</td>\n",
       "      <td>3</td>\n",
       "      <td>14</td>\n",
       "      <td>300</td>\n",
       "      <td>30</td>\n",
       "      <td>130</td>\n",
       "      <td>35.2</td>\n",
       "      <td>37.2</td>\n",
       "      <td>36.0</td>\n",
       "    </tr>\n",
       "    <tr>\n",
       "      <th>1</th>\n",
       "      <td>10</td>\n",
       "      <td>1</td>\n",
       "      <td>3.9</td>\n",
       "      <td>67.4</td>\n",
       "      <td>24.4</td>\n",
       "      <td>52.0</td>\n",
       "      <td>14.0</td>\n",
       "      <td>27.0</td>\n",
       "      <td>76.0</td>\n",
       "      <td>10.3</td>\n",
       "      <td>...</td>\n",
       "      <td>9.0</td>\n",
       "      <td>0.8</td>\n",
       "      <td>0</td>\n",
       "      <td>7</td>\n",
       "      <td>350</td>\n",
       "      <td>60</td>\n",
       "      <td>180</td>\n",
       "      <td>37.9</td>\n",
       "      <td>42.7</td>\n",
       "      <td>43.0</td>\n",
       "    </tr>\n",
       "    <tr>\n",
       "      <th>2</th>\n",
       "      <td>3</td>\n",
       "      <td>1</td>\n",
       "      <td>5.8</td>\n",
       "      <td>67.3</td>\n",
       "      <td>9.5</td>\n",
       "      <td>49.5</td>\n",
       "      <td>11.0</td>\n",
       "      <td>14.2</td>\n",
       "      <td>70.6</td>\n",
       "      <td>9.2</td>\n",
       "      <td>...</td>\n",
       "      <td>12.3</td>\n",
       "      <td>0.4</td>\n",
       "      <td>3</td>\n",
       "      <td>11</td>\n",
       "      <td>250</td>\n",
       "      <td>60</td>\n",
       "      <td>100</td>\n",
       "      <td>33.8</td>\n",
       "      <td>33.0</td>\n",
       "      <td>33.0</td>\n",
       "    </tr>\n",
       "    <tr>\n",
       "      <th>3</th>\n",
       "      <td>12</td>\n",
       "      <td>1</td>\n",
       "      <td>8.5</td>\n",
       "      <td>61.6</td>\n",
       "      <td>18.5</td>\n",
       "      <td>45.6</td>\n",
       "      <td>12.1</td>\n",
       "      <td>NaN</td>\n",
       "      <td>69.1</td>\n",
       "      <td>8.4</td>\n",
       "      <td>...</td>\n",
       "      <td>15.2</td>\n",
       "      <td>0.5</td>\n",
       "      <td>1</td>\n",
       "      <td>22</td>\n",
       "      <td>250</td>\n",
       "      <td>30</td>\n",
       "      <td>100</td>\n",
       "      <td>34.8</td>\n",
       "      <td>41.5</td>\n",
       "      <td>24.7</td>\n",
       "    </tr>\n",
       "    <tr>\n",
       "      <th>4</th>\n",
       "      <td>7</td>\n",
       "      <td>1</td>\n",
       "      <td>4.9</td>\n",
       "      <td>54.4</td>\n",
       "      <td>13.5</td>\n",
       "      <td>34.0</td>\n",
       "      <td>23.0</td>\n",
       "      <td>21.0</td>\n",
       "      <td>72.0</td>\n",
       "      <td>8.8</td>\n",
       "      <td>...</td>\n",
       "      <td>9.9</td>\n",
       "      <td>0.3</td>\n",
       "      <td>4</td>\n",
       "      <td>14</td>\n",
       "      <td>375</td>\n",
       "      <td>50</td>\n",
       "      <td>221</td>\n",
       "      <td>36.0</td>\n",
       "      <td>64.8</td>\n",
       "      <td>55.3</td>\n",
       "    </tr>\n",
       "  </tbody>\n",
       "</table>\n",
       "<p>5 rows × 21 columns</p>\n",
       "</div>"
      ],
      "text/plain": [
       "   Feedstock  Type  Moisture  Volatile   Ash  Proteins   lipids   \\\n",
       "0         21     1      11.8      67.0   8.6       53.0      7.5   \n",
       "1         10     1       3.9      67.4  24.4       52.0     14.0   \n",
       "2          3     1       5.8      67.3   9.5       49.5     11.0   \n",
       "3         12     1       8.5      61.6  18.5       45.6     12.1   \n",
       "4          7     1       4.9      54.4  13.5       34.0     23.0   \n",
       "\n",
       "   carbohydrates    C      H  ...     O    S  Culture Condition  Catalyst  \\\n",
       "0           11.0  72.7   8.8  ...  11.5  0.6                  3        14   \n",
       "1           27.0  76.0  10.3  ...   9.0  0.8                  0         7   \n",
       "2           14.2  70.6   9.2  ...  12.3  0.4                  3        11   \n",
       "3            NaN  69.1   8.4  ...  15.2  0.5                  1        22   \n",
       "4           21.0  72.0   8.8  ...   9.9  0.3                  4        14   \n",
       "\n",
       "   Temp  Time  Pressure   HHV   ERR  Yield%  \n",
       "0   300    30       130  35.2  37.2    36.0  \n",
       "1   350    60       180  37.9  42.7    43.0  \n",
       "2   250    60       100  33.8  33.0    33.0  \n",
       "3   250    30       100  34.8  41.5    24.7  \n",
       "4   375    50       221  36.0  64.8    55.3  \n",
       "\n",
       "[5 rows x 21 columns]"
      ]
     },
     "execution_count": 6,
     "metadata": {},
     "output_type": "execute_result"
    }
   ],
   "source": [
    "df.head()"
   ]
  },
  {
   "cell_type": "code",
   "execution_count": null,
   "id": "180e2744",
   "metadata": {},
   "outputs": [],
   "source": []
  },
  {
   "cell_type": "code",
   "execution_count": 16,
   "id": "74f1bd89",
   "metadata": {},
   "outputs": [],
   "source": [
    "df['Moisture']=df['Moisture'].fillna(df['Moisture'].mode()[0])\n",
    "df['Volatile']=df['Volatile'].fillna(df['Volatile'].mode()[0])\n",
    "df['carbohydrates']=df['carbohydrates'].fillna(df['carbohydrates'].mode()[0])\n",
    "df['S']=df['S'].fillna(df['S'].mode()[0])\n",
    "df['ERR']=df['ERR'].fillna(df['ERR'].mode()[0])\n",
    "df['lipids ']=df['lipids '].fillna(df['lipids '].mode()[0])"
   ]
  },
  {
   "cell_type": "code",
   "execution_count": 17,
   "id": "712d23b7",
   "metadata": {},
   "outputs": [
    {
     "data": {
      "text/plain": [
       "Feedstock            0\n",
       "Type                 0\n",
       "Moisture             0\n",
       "Volatile             0\n",
       "Ash                  0\n",
       "Proteins             0\n",
       "lipids               0\n",
       "carbohydrates        0\n",
       "C                    0\n",
       "H                    0\n",
       "N                    0\n",
       "O                    0\n",
       "S                    0\n",
       "Culture Condition    0\n",
       "Catalyst             0\n",
       "Temp                 0\n",
       "Time                 0\n",
       "Pressure             0\n",
       "HHV                  0\n",
       "ERR                  0\n",
       "Yield%               0\n",
       "dtype: int64"
      ]
     },
     "execution_count": 17,
     "metadata": {},
     "output_type": "execute_result"
    }
   ],
   "source": [
    "df.isna().sum()"
   ]
  },
  {
   "cell_type": "markdown",
   "id": "1b35fb02",
   "metadata": {},
   "source": [
    "# All Features VS Yield%"
   ]
  },
  {
   "cell_type": "code",
   "execution_count": 20,
   "id": "01ecfe59",
   "metadata": {},
   "outputs": [],
   "source": [
    "x=df.drop('Yield%',axis=1)\n",
    "y=df['Yield%']"
   ]
  },
  {
   "cell_type": "code",
   "execution_count": 21,
   "id": "3ead1868",
   "metadata": {},
   "outputs": [],
   "source": [
    "from sklearn.model_selection import train_test_split\n",
    "from sklearn import linear_model\n",
    "from sklearn.linear_model import LinearRegression\n",
    "reg=linear_model.LinearRegression()\n",
    "x_train,x_test,y_train,y_test = train_test_split(x,y,test_size=0.3)"
   ]
  },
  {
   "cell_type": "code",
   "execution_count": 22,
   "id": "8e2635ee",
   "metadata": {},
   "outputs": [
    {
     "data": {
      "text/plain": [
       "LinearRegression()"
      ]
     },
     "execution_count": 22,
     "metadata": {},
     "output_type": "execute_result"
    }
   ],
   "source": [
    "reg.fit(x_train,y_train)"
   ]
  },
  {
   "cell_type": "code",
   "execution_count": 23,
   "id": "cf040615",
   "metadata": {},
   "outputs": [
    {
     "data": {
      "text/plain": [
       "array([19.04317502, 15.2429464 , 44.57909699, 42.45036848, 18.40935579,\n",
       "       28.06121263, 36.23336937, 38.44565526, 25.80085286, 39.86871773,\n",
       "       17.11529553, 35.68303631, 32.28792477, 44.46431929, 39.3034442 ,\n",
       "       30.70042101, 29.53201096, 21.15565301, 44.96216136, 41.73824086,\n",
       "       38.53964831, 37.74516522, 28.63203115, 41.81246764, 36.69745498,\n",
       "       13.61179153, 31.06864692, 23.73809565, 25.33418429, 18.64987652])"
      ]
     },
     "execution_count": 23,
     "metadata": {},
     "output_type": "execute_result"
    }
   ],
   "source": [
    "y_pred = reg.predict(x_test)\n",
    "y_pred"
   ]
  },
  {
   "cell_type": "code",
   "execution_count": 24,
   "id": "fe9499fe",
   "metadata": {},
   "outputs": [],
   "source": [
    "from sklearn.metrics import r2_score"
   ]
  },
  {
   "cell_type": "code",
   "execution_count": 26,
   "id": "687c7f5b",
   "metadata": {},
   "outputs": [
    {
     "data": {
      "application/javascript": [
       "\n",
       "        if (window._pyforest_update_imports_cell) { window._pyforest_update_imports_cell('import numpy as np\\nimport pandas as pd'); }\n",
       "    "
      ],
      "text/plain": [
       "<IPython.core.display.Javascript object>"
      ]
     },
     "metadata": {},
     "output_type": "display_data"
    },
    {
     "data": {
      "application/javascript": [
       "\n",
       "        if (window._pyforest_update_imports_cell) { window._pyforest_update_imports_cell('import numpy as np\\nimport pandas as pd'); }\n",
       "    "
      ],
      "text/plain": [
       "<IPython.core.display.Javascript object>"
      ]
     },
     "metadata": {},
     "output_type": "display_data"
    },
    {
     "name": "stdout",
     "output_type": "stream",
     "text": [
      "Mean absolute Error:  5.168603487304768\n"
     ]
    },
    {
     "data": {
      "application/javascript": [
       "\n",
       "        if (window._pyforest_update_imports_cell) { window._pyforest_update_imports_cell('import numpy as np\\nimport pandas as pd'); }\n",
       "    "
      ],
      "text/plain": [
       "<IPython.core.display.Javascript object>"
      ]
     },
     "metadata": {},
     "output_type": "display_data"
    },
    {
     "name": "stdout",
     "output_type": "stream",
     "text": [
      "Root mean square error:  0.3759071411578253\n",
      "R2 square:  0.47705334883120076\n"
     ]
    }
   ],
   "source": [
    "print(\"Mean absolute Error: \" ,np.mean(np.absolute(y_pred-y_test)))\n",
    "print(\"Root mean square error: \" ,np.mean(y_pred-y_test)**2)\n",
    "print(\"R2 square: \" ,r2_score(y_pred,y_test))"
   ]
  },
  {
   "cell_type": "markdown",
   "id": "0b5d7fcc",
   "metadata": {},
   "source": [
    "# All Features Vs HHV"
   ]
  },
  {
   "cell_type": "code",
   "execution_count": 27,
   "id": "aea85e00",
   "metadata": {},
   "outputs": [],
   "source": [
    "x=df.drop('HHV',axis=1)\n",
    "y=df['HHV']"
   ]
  },
  {
   "cell_type": "code",
   "execution_count": 31,
   "id": "50135db0",
   "metadata": {},
   "outputs": [],
   "source": [
    "from sklearn.model_selection import train_test_split\n",
    "from sklearn import linear_model\n",
    "from sklearn.linear_model import LinearRegression\n",
    "reg=linear_model.LinearRegression()\n",
    "x_train,x_test,y_train,y_test = train_test_split(x,y,test_size=0.3)"
   ]
  },
  {
   "cell_type": "code",
   "execution_count": 32,
   "id": "ff9e2011",
   "metadata": {},
   "outputs": [
    {
     "data": {
      "text/plain": [
       "LinearRegression()"
      ]
     },
     "execution_count": 32,
     "metadata": {},
     "output_type": "execute_result"
    }
   ],
   "source": [
    "reg.fit(x_train,y_train)"
   ]
  },
  {
   "cell_type": "code",
   "execution_count": 33,
   "id": "8f039b29",
   "metadata": {},
   "outputs": [
    {
     "data": {
      "text/plain": [
       "array([14.38441704, 26.9855167 , 29.55889917, 24.2284871 , 25.95647566,\n",
       "       36.20174281, 24.93509284, 11.2663543 , 35.19247518, 28.96782497,\n",
       "       32.13877876, 34.24258998, 35.14703698, 35.33596261, 23.90017525,\n",
       "       25.24583721, 25.91913752, 34.45876658, 29.15870948, 24.94811411,\n",
       "       34.68411518, 24.02574399, 11.0614097 , 33.85746503, 11.07741449,\n",
       "       29.28196968, 25.00118164, 35.66787053, 34.72258352, 38.24369531])"
      ]
     },
     "execution_count": 33,
     "metadata": {},
     "output_type": "execute_result"
    }
   ],
   "source": [
    "y_pred = reg.predict(x_test)\n",
    "y_pred"
   ]
  },
  {
   "cell_type": "code",
   "execution_count": 34,
   "id": "6933944a",
   "metadata": {},
   "outputs": [
    {
     "data": {
      "application/javascript": [
       "\n",
       "        if (window._pyforest_update_imports_cell) { window._pyforest_update_imports_cell('import numpy as np\\nimport pandas as pd'); }\n",
       "    "
      ],
      "text/plain": [
       "<IPython.core.display.Javascript object>"
      ]
     },
     "metadata": {},
     "output_type": "display_data"
    },
    {
     "data": {
      "application/javascript": [
       "\n",
       "        if (window._pyforest_update_imports_cell) { window._pyforest_update_imports_cell('import numpy as np\\nimport pandas as pd'); }\n",
       "    "
      ],
      "text/plain": [
       "<IPython.core.display.Javascript object>"
      ]
     },
     "metadata": {},
     "output_type": "display_data"
    },
    {
     "name": "stdout",
     "output_type": "stream",
     "text": [
      "Mean absolute Error:  0.33798762947364647\n"
     ]
    },
    {
     "data": {
      "application/javascript": [
       "\n",
       "        if (window._pyforest_update_imports_cell) { window._pyforest_update_imports_cell('import numpy as np\\nimport pandas as pd'); }\n",
       "    "
      ],
      "text/plain": [
       "<IPython.core.display.Javascript object>"
      ]
     },
     "metadata": {},
     "output_type": "display_data"
    },
    {
     "name": "stdout",
     "output_type": "stream",
     "text": [
      "Root mean square error:  0.016936043910403663\n",
      "R2 square:  0.9893807688509063\n"
     ]
    }
   ],
   "source": [
    "print(\"Mean absolute Error: \" ,np.mean(np.absolute(y_pred-y_test)))\n",
    "print(\"Root mean square error: \" ,np.mean(y_pred-y_test)**2)\n",
    "print(\"R2 square: \" ,r2_score(y_pred,y_test))"
   ]
  },
  {
   "cell_type": "markdown",
   "id": "34198e6e",
   "metadata": {},
   "source": [
    "# All Features Vs ERR"
   ]
  },
  {
   "cell_type": "code",
   "execution_count": 40,
   "id": "ba40d9a0",
   "metadata": {},
   "outputs": [],
   "source": [
    "x=df.drop('ERR',axis=1)\n",
    "y=df['ERR']"
   ]
  },
  {
   "cell_type": "code",
   "execution_count": 41,
   "id": "65b3b8df",
   "metadata": {},
   "outputs": [],
   "source": [
    "from sklearn.model_selection import train_test_split\n",
    "from sklearn import linear_model\n",
    "from sklearn.linear_model import LinearRegression\n",
    "reg=linear_model.LinearRegression()\n",
    "x_train,x_test,y_train,y_test = train_test_split(x,y,test_size=0.3)"
   ]
  },
  {
   "cell_type": "code",
   "execution_count": 42,
   "id": "559a4163",
   "metadata": {},
   "outputs": [
    {
     "data": {
      "text/plain": [
       "LinearRegression()"
      ]
     },
     "execution_count": 42,
     "metadata": {},
     "output_type": "execute_result"
    }
   ],
   "source": [
    "reg.fit(x_train,y_train)"
   ]
  },
  {
   "cell_type": "code",
   "execution_count": 43,
   "id": "0ae138c7",
   "metadata": {},
   "outputs": [
    {
     "data": {
      "text/plain": [
       "array([17.92912649, 16.49706363, 37.61983217, 20.76494024, 48.79971196,\n",
       "       21.59993237, 38.97682962, 15.88371528, 30.63607306, 21.07529794,\n",
       "       14.49731849, 28.25261347, 35.63082408,  7.58307733, 24.10922914,\n",
       "       37.70447554, 20.86287788, 19.14450189, 31.69762165, 16.95560674,\n",
       "       28.03737714, 13.54928847, 17.40585125, 16.37030329, 17.18919823,\n",
       "       23.67998931, 37.76521549, 28.884369  , 40.87026024, 38.92300142])"
      ]
     },
     "execution_count": 43,
     "metadata": {},
     "output_type": "execute_result"
    }
   ],
   "source": [
    "y_pred = reg.predict(x_test)\n",
    "y_pred"
   ]
  },
  {
   "cell_type": "code",
   "execution_count": 44,
   "id": "310e04d2",
   "metadata": {},
   "outputs": [
    {
     "data": {
      "application/javascript": [
       "\n",
       "        if (window._pyforest_update_imports_cell) { window._pyforest_update_imports_cell('import numpy as np\\nimport pandas as pd'); }\n",
       "    "
      ],
      "text/plain": [
       "<IPython.core.display.Javascript object>"
      ]
     },
     "metadata": {},
     "output_type": "display_data"
    },
    {
     "data": {
      "application/javascript": [
       "\n",
       "        if (window._pyforest_update_imports_cell) { window._pyforest_update_imports_cell('import numpy as np\\nimport pandas as pd'); }\n",
       "    "
      ],
      "text/plain": [
       "<IPython.core.display.Javascript object>"
      ]
     },
     "metadata": {},
     "output_type": "display_data"
    },
    {
     "name": "stdout",
     "output_type": "stream",
     "text": [
      "Mean absolute Error:  5.760032629524907\n"
     ]
    },
    {
     "data": {
      "application/javascript": [
       "\n",
       "        if (window._pyforest_update_imports_cell) { window._pyforest_update_imports_cell('import numpy as np\\nimport pandas as pd'); }\n",
       "    "
      ],
      "text/plain": [
       "<IPython.core.display.Javascript object>"
      ]
     },
     "metadata": {},
     "output_type": "display_data"
    },
    {
     "name": "stdout",
     "output_type": "stream",
     "text": [
      "Root mean square error:  2.0644399477601536\n",
      "R2 square:  0.40812736041854925\n"
     ]
    }
   ],
   "source": [
    "print(\"Mean absolute Error: \" ,np.mean(np.absolute(y_pred-y_test)))\n",
    "print(\"Root mean square error: \" ,np.mean(y_pred-y_test)**2)\n",
    "print(\"R2 square: \" ,r2_score(y_pred,y_test))"
   ]
  }
 ],
 "metadata": {
  "kernelspec": {
   "display_name": "Python 3 (ipykernel)",
   "language": "python",
   "name": "python3"
  },
  "language_info": {
   "codemirror_mode": {
    "name": "ipython",
    "version": 3
   },
   "file_extension": ".py",
   "mimetype": "text/x-python",
   "name": "python",
   "nbconvert_exporter": "python",
   "pygments_lexer": "ipython3",
   "version": "3.9.7"
  }
 },
 "nbformat": 4,
 "nbformat_minor": 5
}
