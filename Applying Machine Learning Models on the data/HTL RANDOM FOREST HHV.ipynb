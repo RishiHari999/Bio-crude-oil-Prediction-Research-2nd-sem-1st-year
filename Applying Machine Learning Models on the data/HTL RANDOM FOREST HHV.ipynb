{
 "cells": [
  {
   "cell_type": "code",
   "execution_count": 2,
   "id": "079c0e73",
   "metadata": {},
   "outputs": [
    {
     "data": {
      "application/javascript": [
       "\n",
       "        if (window._pyforest_update_imports_cell) { window._pyforest_update_imports_cell('import pandas as pd'); }\n",
       "    "
      ],
      "text/plain": [
       "<IPython.core.display.Javascript object>"
      ]
     },
     "metadata": {},
     "output_type": "display_data"
    },
    {
     "data": {
      "text/html": [
       "<div>\n",
       "<style scoped>\n",
       "    .dataframe tbody tr th:only-of-type {\n",
       "        vertical-align: middle;\n",
       "    }\n",
       "\n",
       "    .dataframe tbody tr th {\n",
       "        vertical-align: top;\n",
       "    }\n",
       "\n",
       "    .dataframe thead th {\n",
       "        text-align: right;\n",
       "    }\n",
       "</style>\n",
       "<table border=\"1\" class=\"dataframe\">\n",
       "  <thead>\n",
       "    <tr style=\"text-align: right;\">\n",
       "      <th></th>\n",
       "      <th>Feedstock</th>\n",
       "      <th>Type</th>\n",
       "      <th>Moisture</th>\n",
       "      <th>Volatile</th>\n",
       "      <th>Ash</th>\n",
       "      <th>Proteins</th>\n",
       "      <th>lipids</th>\n",
       "      <th>carbohydrates</th>\n",
       "      <th>C</th>\n",
       "      <th>H</th>\n",
       "      <th>...</th>\n",
       "      <th>O</th>\n",
       "      <th>S</th>\n",
       "      <th>Culture Condition</th>\n",
       "      <th>Catalyst</th>\n",
       "      <th>Temp</th>\n",
       "      <th>Time</th>\n",
       "      <th>Pressure</th>\n",
       "      <th>HHV</th>\n",
       "      <th>ERR</th>\n",
       "      <th>Yield%</th>\n",
       "    </tr>\n",
       "  </thead>\n",
       "  <tbody>\n",
       "    <tr>\n",
       "      <th>0</th>\n",
       "      <td>Spirulina platensis</td>\n",
       "      <td>microalgae</td>\n",
       "      <td>11.8</td>\n",
       "      <td>67.0</td>\n",
       "      <td>8.6</td>\n",
       "      <td>53.0</td>\n",
       "      <td>7.5</td>\n",
       "      <td>11.0</td>\n",
       "      <td>72.7</td>\n",
       "      <td>8.8</td>\n",
       "      <td>...</td>\n",
       "      <td>11.5</td>\n",
       "      <td>0.6</td>\n",
       "      <td>open pond</td>\n",
       "      <td>Na2CO3</td>\n",
       "      <td>300</td>\n",
       "      <td>30</td>\n",
       "      <td>130</td>\n",
       "      <td>35.2</td>\n",
       "      <td>37.2</td>\n",
       "      <td>36.0</td>\n",
       "    </tr>\n",
       "    <tr>\n",
       "      <th>1</th>\n",
       "      <td>Nannochloropsis</td>\n",
       "      <td>microalgae</td>\n",
       "      <td>3.9</td>\n",
       "      <td>67.4</td>\n",
       "      <td>24.4</td>\n",
       "      <td>52.0</td>\n",
       "      <td>14.0</td>\n",
       "      <td>27.0</td>\n",
       "      <td>76.0</td>\n",
       "      <td>10.3</td>\n",
       "      <td>...</td>\n",
       "      <td>9.0</td>\n",
       "      <td>0.8</td>\n",
       "      <td>Flask</td>\n",
       "      <td>H-ZSM5</td>\n",
       "      <td>350</td>\n",
       "      <td>60</td>\n",
       "      <td>180</td>\n",
       "      <td>37.9</td>\n",
       "      <td>42.7</td>\n",
       "      <td>43.0</td>\n",
       "    </tr>\n",
       "    <tr>\n",
       "      <th>2</th>\n",
       "      <td>Chlorella vulgaris</td>\n",
       "      <td>microalgae</td>\n",
       "      <td>5.8</td>\n",
       "      <td>67.3</td>\n",
       "      <td>9.5</td>\n",
       "      <td>49.5</td>\n",
       "      <td>11.0</td>\n",
       "      <td>14.2</td>\n",
       "      <td>70.6</td>\n",
       "      <td>9.2</td>\n",
       "      <td>...</td>\n",
       "      <td>12.3</td>\n",
       "      <td>0.4</td>\n",
       "      <td>open pond</td>\n",
       "      <td>LiOH</td>\n",
       "      <td>250</td>\n",
       "      <td>60</td>\n",
       "      <td>100</td>\n",
       "      <td>33.8</td>\n",
       "      <td>33.0</td>\n",
       "      <td>33.0</td>\n",
       "    </tr>\n",
       "    <tr>\n",
       "      <th>3</th>\n",
       "      <td>Porphyridium purpureum</td>\n",
       "      <td>microalgae</td>\n",
       "      <td>8.5</td>\n",
       "      <td>61.6</td>\n",
       "      <td>18.5</td>\n",
       "      <td>45.6</td>\n",
       "      <td>12.1</td>\n",
       "      <td>NaN</td>\n",
       "      <td>69.1</td>\n",
       "      <td>8.4</td>\n",
       "      <td>...</td>\n",
       "      <td>15.2</td>\n",
       "      <td>0.5</td>\n",
       "      <td>PBR</td>\n",
       "      <td>NaN</td>\n",
       "      <td>250</td>\n",
       "      <td>30</td>\n",
       "      <td>100</td>\n",
       "      <td>34.8</td>\n",
       "      <td>41.5</td>\n",
       "      <td>24.7</td>\n",
       "    </tr>\n",
       "    <tr>\n",
       "      <th>4</th>\n",
       "      <td>Dunaliella tertiolecta</td>\n",
       "      <td>microalgae</td>\n",
       "      <td>4.9</td>\n",
       "      <td>54.4</td>\n",
       "      <td>13.5</td>\n",
       "      <td>34.0</td>\n",
       "      <td>23.0</td>\n",
       "      <td>21.0</td>\n",
       "      <td>72.0</td>\n",
       "      <td>8.8</td>\n",
       "      <td>...</td>\n",
       "      <td>9.9</td>\n",
       "      <td>0.3</td>\n",
       "      <td>NaN</td>\n",
       "      <td>Na2CO3</td>\n",
       "      <td>375</td>\n",
       "      <td>50</td>\n",
       "      <td>221</td>\n",
       "      <td>36.0</td>\n",
       "      <td>64.8</td>\n",
       "      <td>55.3</td>\n",
       "    </tr>\n",
       "  </tbody>\n",
       "</table>\n",
       "<p>5 rows × 21 columns</p>\n",
       "</div>"
      ],
      "text/plain": [
       "                Feedstock        Type  Moisture  Volatile   Ash  Proteins   \\\n",
       "0     Spirulina platensis  microalgae      11.8      67.0   8.6       53.0   \n",
       "1         Nannochloropsis  microalgae       3.9      67.4  24.4       52.0   \n",
       "2      Chlorella vulgaris  microalgae       5.8      67.3   9.5       49.5   \n",
       "3  Porphyridium purpureum  microalgae       8.5      61.6  18.5       45.6   \n",
       "4  Dunaliella tertiolecta  microalgae       4.9      54.4  13.5       34.0   \n",
       "\n",
       "   lipids   carbohydrates    C      H  ...     O    S  Culture Condition  \\\n",
       "0      7.5           11.0  72.7   8.8  ...  11.5  0.6          open pond   \n",
       "1     14.0           27.0  76.0  10.3  ...   9.0  0.8              Flask   \n",
       "2     11.0           14.2  70.6   9.2  ...  12.3  0.4          open pond   \n",
       "3     12.1            NaN  69.1   8.4  ...  15.2  0.5                PBR   \n",
       "4     23.0           21.0  72.0   8.8  ...   9.9  0.3                NaN   \n",
       "\n",
       "  Catalyst Temp  Time  Pressure   HHV   ERR  Yield%  \n",
       "0   Na2CO3  300    30       130  35.2  37.2    36.0  \n",
       "1   H-ZSM5  350    60       180  37.9  42.7    43.0  \n",
       "2     LiOH  250    60       100  33.8  33.0    33.0  \n",
       "3      NaN  250    30       100  34.8  41.5    24.7  \n",
       "4   Na2CO3  375    50       221  36.0  64.8    55.3  \n",
       "\n",
       "[5 rows x 21 columns]"
      ]
     },
     "execution_count": 2,
     "metadata": {},
     "output_type": "execute_result"
    }
   ],
   "source": [
    "df=pd.read_excel(\"E:\\HTL Project\\HTL Raw data.xlsx\")\n",
    "df.head()"
   ]
  },
  {
   "cell_type": "code",
   "execution_count": 3,
   "id": "c5e3c315",
   "metadata": {},
   "outputs": [],
   "source": [
    "from sklearn.preprocessing import LabelEncoder\n",
    "le=LabelEncoder()\n",
    "df['Feedstock']=le.fit_transform(df['Feedstock'])\n",
    "df['Type']=le.fit_transform(df['Type'])\n",
    "df['Culture Condition']=le.fit_transform(df['Culture Condition'])\n",
    "df['Catalyst']=le.fit_transform(df['Catalyst'])\n",
    "df['Moisture']=df['Moisture'].fillna(df['Moisture'].mode()[0])\n",
    "df['Volatile']=df['Volatile'].fillna(df['Volatile'].mode()[0])\n",
    "df['carbohydrates']=df['carbohydrates'].fillna(df['carbohydrates'].mode()[0])\n",
    "df['S']=df['S'].fillna(df['S'].mode()[0])\n",
    "df['ERR']=df['ERR'].fillna(df['ERR'].mode()[0])\n",
    "df['lipids ']=df['lipids '].fillna(df['lipids '].mode()[0])"
   ]
  },
  {
   "cell_type": "code",
   "execution_count": 4,
   "id": "7e89fffa",
   "metadata": {},
   "outputs": [
    {
     "data": {
      "application/javascript": [
       "\n",
       "        if (window._pyforest_update_imports_cell) { window._pyforest_update_imports_cell('from sklearn.ensemble import RandomForestRegressor\\nimport pandas as pd'); }\n",
       "    "
      ],
      "text/plain": [
       "<IPython.core.display.Javascript object>"
      ]
     },
     "metadata": {},
     "output_type": "display_data"
    },
    {
     "data": {
      "application/javascript": [
       "\n",
       "        if (window._pyforest_update_imports_cell) { window._pyforest_update_imports_cell('from sklearn.ensemble import RandomForestRegressor\\nimport pandas as pd\\nimport numpy as np'); }\n",
       "    "
      ],
      "text/plain": [
       "<IPython.core.display.Javascript object>"
      ]
     },
     "metadata": {},
     "output_type": "display_data"
    },
    {
     "data": {
      "application/javascript": [
       "\n",
       "        if (window._pyforest_update_imports_cell) { window._pyforest_update_imports_cell('from sklearn.ensemble import RandomForestRegressor\\nimport pandas as pd\\nimport numpy as np'); }\n",
       "    "
      ],
      "text/plain": [
       "<IPython.core.display.Javascript object>"
      ]
     },
     "metadata": {},
     "output_type": "display_data"
    },
    {
     "name": "stdout",
     "output_type": "stream",
     "text": [
      "Mean absolute Error:  0.34633333333333194\n"
     ]
    },
    {
     "data": {
      "application/javascript": [
       "\n",
       "        if (window._pyforest_update_imports_cell) { window._pyforest_update_imports_cell('from sklearn.ensemble import RandomForestRegressor\\nimport pandas as pd\\nimport numpy as np'); }\n",
       "    "
      ],
      "text/plain": [
       "<IPython.core.display.Javascript object>"
      ]
     },
     "metadata": {},
     "output_type": "display_data"
    },
    {
     "name": "stdout",
     "output_type": "stream",
     "text": [
      "Root mean square error:  0.04188844444444224\n",
      "Test R2 square:  0.9892682638356828\n"
     ]
    },
    {
     "data": {
      "application/javascript": [
       "\n",
       "        if (window._pyforest_update_imports_cell) { window._pyforest_update_imports_cell('from sklearn.ensemble import RandomForestRegressor\\nimport pandas as pd\\nimport numpy as np'); }\n",
       "    "
      ],
      "text/plain": [
       "<IPython.core.display.Javascript object>"
      ]
     },
     "metadata": {},
     "output_type": "display_data"
    },
    {
     "data": {
      "application/javascript": [
       "\n",
       "        if (window._pyforest_update_imports_cell) { window._pyforest_update_imports_cell('from sklearn.ensemble import RandomForestRegressor\\nimport pandas as pd\\nimport numpy as np'); }\n",
       "    "
      ],
      "text/plain": [
       "<IPython.core.display.Javascript object>"
      ]
     },
     "metadata": {},
     "output_type": "display_data"
    },
    {
     "data": {
      "application/javascript": [
       "\n",
       "        if (window._pyforest_update_imports_cell) { window._pyforest_update_imports_cell('from sklearn.ensemble import RandomForestRegressor\\nimport pandas as pd\\nimport numpy as np'); }\n",
       "    "
      ],
      "text/plain": [
       "<IPython.core.display.Javascript object>"
      ]
     },
     "metadata": {},
     "output_type": "display_data"
    },
    {
     "name": "stdout",
     "output_type": "stream",
     "text": [
      "Mean absolute Error:  0.2764875000000096\n"
     ]
    },
    {
     "data": {
      "application/javascript": [
       "\n",
       "        if (window._pyforest_update_imports_cell) { window._pyforest_update_imports_cell('from sklearn.ensemble import RandomForestRegressor\\nimport pandas as pd\\nimport numpy as np'); }\n",
       "    "
      ],
      "text/plain": [
       "<IPython.core.display.Javascript object>"
      ]
     },
     "metadata": {},
     "output_type": "display_data"
    },
    {
     "name": "stdout",
     "output_type": "stream",
     "text": [
      "Root mean square error:  0.0025414201562508074\n",
      "R2 square:  0.991854309159892\n"
     ]
    }
   ],
   "source": [
    "x=df.drop('HHV',axis=1)\n",
    "y=df['HHV']\n",
    "from sklearn.ensemble import RandomForestClassifier\n",
    "from sklearn.feature_selection import SelectFromModel\n",
    "from sklearn.model_selection import train_test_split\n",
    "x_train,x_test,y_train,y_test = train_test_split(x,y,test_size=0.2)\n",
    "#This is for the testing Data\n",
    "regressor = RandomForestRegressor(n_estimators = 30, random_state = 42)\n",
    "regressor.fit(x_train, y_train)\n",
    "y_pred =regressor.predict(x_test)\n",
    "y_pred\n",
    "from sklearn.metrics import r2_score\n",
    "print(\"Mean absolute Error: \" ,np.mean(np.absolute(y_pred-y_test)))\n",
    "print(\"Root mean square error: \" ,np.mean(y_pred-y_test)**2)\n",
    "print(\"Test R2 square: \" ,r2_score(y_pred,y_test))\n",
    "#This is for the trainig Data\n",
    "regressor2 = RandomForestRegressor(n_estimators = 100, random_state = 42)\n",
    "regressor2.fit(x_train, y_train)\n",
    "y_pred1 =regressor2.predict(x_train)\n",
    "y_pred1\n",
    "from sklearn.metrics import r2_score\n",
    "print(\"Mean absolute Error: \" ,np.mean(np.absolute(y_pred1-y_train)))\n",
    "print(\"Root mean square error: \" ,np.mean(y_pred1-y_train)**2)\n",
    "print(\"R2 square: \" ,r2_score(y_pred1,y_train))"
   ]
  },
  {
   "cell_type": "code",
   "execution_count": 5,
   "id": "be5f2a82",
   "metadata": {},
   "outputs": [],
   "source": [
    "params = {\n",
    "    'max_depth': [2,3,5,10,20],\n",
    "    'n_estimators': [10,25,30,50,100,200,250]\n",
    "}"
   ]
  },
  {
   "cell_type": "code",
   "execution_count": 6,
   "id": "2946b767",
   "metadata": {},
   "outputs": [],
   "source": [
    "from sklearn.model_selection import GridSearchCV"
   ]
  },
  {
   "cell_type": "code",
   "execution_count": 7,
   "id": "ca48f199",
   "metadata": {},
   "outputs": [],
   "source": [
    "rf_grid = GridSearchCV(estimator=regressor,\n",
    "                           param_grid=params,\n",
    "                           cv = 3,\n",
    "                           n_jobs=4, verbose=2)"
   ]
  },
  {
   "cell_type": "code",
   "execution_count": 8,
   "id": "aabde09f",
   "metadata": {},
   "outputs": [
    {
     "name": "stdout",
     "output_type": "stream",
     "text": [
      "Fitting 3 folds for each of 35 candidates, totalling 105 fits\n"
     ]
    },
    {
     "data": {
      "text/plain": [
       "GridSearchCV(cv=3,\n",
       "             estimator=RandomForestRegressor(n_estimators=30, random_state=42),\n",
       "             n_jobs=4,\n",
       "             param_grid={'max_depth': [2, 3, 5, 10, 20],\n",
       "                         'n_estimators': [10, 25, 30, 50, 100, 200, 250]},\n",
       "             verbose=2)"
      ]
     },
     "execution_count": 8,
     "metadata": {},
     "output_type": "execute_result"
    }
   ],
   "source": [
    "rf_grid.fit(x_train,y_train)"
   ]
  },
  {
   "cell_type": "code",
   "execution_count": 9,
   "id": "bfd74067",
   "metadata": {},
   "outputs": [
    {
     "data": {
      "text/plain": [
       "{'max_depth': 10, 'n_estimators': 250}"
      ]
     },
     "execution_count": 9,
     "metadata": {},
     "output_type": "execute_result"
    }
   ],
   "source": [
    "rf_grid.best_params_"
   ]
  },
  {
   "cell_type": "code",
   "execution_count": 10,
   "id": "dcd47f61",
   "metadata": {},
   "outputs": [
    {
     "name": "stdout",
     "output_type": "stream",
     "text": [
      "0.992292053768177\n",
      "0.9921760707835797\n"
     ]
    }
   ],
   "source": [
    "print(rf_grid.score(x_train,y_train))\n",
    "print(rf_grid.score(x_test,y_test))"
   ]
  },
  {
   "cell_type": "code",
   "execution_count": 11,
   "id": "08068285",
   "metadata": {},
   "outputs": [
    {
     "data": {
      "text/plain": [
       "0.992292053768177"
      ]
     },
     "execution_count": 11,
     "metadata": {},
     "output_type": "execute_result"
    }
   ],
   "source": [
    "rf_grid.score(x_train,y_train)"
   ]
  },
  {
   "cell_type": "code",
   "execution_count": 12,
   "id": "cd7cfa1f",
   "metadata": {},
   "outputs": [
    {
     "data": {
      "text/plain": [
       "0.9921760707835797"
      ]
     },
     "execution_count": 12,
     "metadata": {},
     "output_type": "execute_result"
    }
   ],
   "source": [
    "rf_grid.score(x_test,y_test)"
   ]
  },
  {
   "cell_type": "code",
   "execution_count": 13,
   "id": "4302be56",
   "metadata": {},
   "outputs": [
    {
     "data": {
      "application/javascript": [
       "\n",
       "        if (window._pyforest_update_imports_cell) { window._pyforest_update_imports_cell('from sklearn.ensemble import RandomForestRegressor\\nimport pandas as pd\\nfrom sklearn.model_selection import cross_val_score\\nimport numpy as np'); }\n",
       "    "
      ],
      "text/plain": [
       "<IPython.core.display.Javascript object>"
      ]
     },
     "metadata": {},
     "output_type": "display_data"
    },
    {
     "data": {
      "text/plain": [
       "array([0.82607401, 0.91257922, 0.99439413, 0.95758363, 0.02380494,\n",
       "       0.9879225 , 0.50264997, 0.        , 0.46306888, 0.85817139])"
      ]
     },
     "execution_count": 13,
     "metadata": {},
     "output_type": "execute_result"
    }
   ],
   "source": [
    "cross_val_score(regressor, x, y, cv=10, scoring=\"r2\")"
   ]
  },
  {
   "cell_type": "code",
   "execution_count": 14,
   "id": "4bd63c04",
   "metadata": {},
   "outputs": [
    {
     "data": {
      "text/plain": [
       "0.9879681800272165"
      ]
     },
     "execution_count": 14,
     "metadata": {},
     "output_type": "execute_result"
    }
   ],
   "source": [
    "1 - (1-regressor.score(x, y))*(len(y)-1)/(len(y)-x.shape[1]-1)"
   ]
  },
  {
   "cell_type": "code",
   "execution_count": 15,
   "id": "5046cf85",
   "metadata": {},
   "outputs": [
    {
     "data": {
      "application/javascript": [
       "\n",
       "        if (window._pyforest_update_imports_cell) { window._pyforest_update_imports_cell('import pandas as pd\\nimport matplotlib.pyplot as plt\\nfrom sklearn.model_selection import cross_val_score\\nimport numpy as np\\nfrom sklearn.ensemble import RandomForestRegressor'); }\n",
       "    "
      ],
      "text/plain": [
       "<IPython.core.display.Javascript object>"
      ]
     },
     "metadata": {},
     "output_type": "display_data"
    },
    {
     "data": {
      "application/javascript": [
       "\n",
       "        if (window._pyforest_update_imports_cell) { window._pyforest_update_imports_cell('import pandas as pd\\nimport matplotlib.pyplot as plt\\nfrom sklearn.model_selection import cross_val_score\\nimport numpy as np\\nfrom sklearn.ensemble import RandomForestRegressor'); }\n",
       "    "
      ],
      "text/plain": [
       "<IPython.core.display.Javascript object>"
      ]
     },
     "metadata": {},
     "output_type": "display_data"
    },
    {
     "data": {
      "application/javascript": [
       "\n",
       "        if (window._pyforest_update_imports_cell) { window._pyforest_update_imports_cell('import pandas as pd\\nimport matplotlib.pyplot as plt\\nfrom sklearn.model_selection import cross_val_score\\nimport numpy as np\\nfrom sklearn.ensemble import RandomForestRegressor'); }\n",
       "    "
      ],
      "text/plain": [
       "<IPython.core.display.Javascript object>"
      ]
     },
     "metadata": {},
     "output_type": "display_data"
    },
    {
     "data": {
      "application/javascript": [
       "\n",
       "        if (window._pyforest_update_imports_cell) { window._pyforest_update_imports_cell('import pandas as pd\\nimport matplotlib.pyplot as plt\\nfrom sklearn.model_selection import cross_val_score\\nimport numpy as np\\nfrom sklearn.ensemble import RandomForestRegressor'); }\n",
       "    "
      ],
      "text/plain": [
       "<IPython.core.display.Javascript object>"
      ]
     },
     "metadata": {},
     "output_type": "display_data"
    },
    {
     "data": {
      "application/javascript": [
       "\n",
       "        if (window._pyforest_update_imports_cell) { window._pyforest_update_imports_cell('import pandas as pd\\nimport matplotlib.pyplot as plt\\nfrom sklearn.model_selection import cross_val_score\\nimport numpy as np\\nfrom sklearn.ensemble import RandomForestRegressor'); }\n",
       "    "
      ],
      "text/plain": [
       "<IPython.core.display.Javascript object>"
      ]
     },
     "metadata": {},
     "output_type": "display_data"
    },
    {
     "data": {
      "application/javascript": [
       "\n",
       "        if (window._pyforest_update_imports_cell) { window._pyforest_update_imports_cell('import pandas as pd\\nimport matplotlib.pyplot as plt\\nfrom sklearn.model_selection import cross_val_score\\nimport numpy as np\\nfrom sklearn.ensemble import RandomForestRegressor'); }\n",
       "    "
      ],
      "text/plain": [
       "<IPython.core.display.Javascript object>"
      ]
     },
     "metadata": {},
     "output_type": "display_data"
    },
    {
     "data": {
      "text/plain": [
       "<matplotlib.legend.Legend at 0x227db13e700>"
      ]
     },
     "execution_count": 15,
     "metadata": {},
     "output_type": "execute_result"
    },
    {
     "data": {
      "image/png": "[encoded data removed]",
      "text/plain": [
       "<Figure size 432x288 with 1 Axes>"
      ]
     },
     "metadata": {
      "needs_background": "light"
     },
     "output_type": "display_data"
    }
   ],
   "source": [
    "plt.scatter(y_pred1,y_train,label='train',color='#c3892b')\n",
    "plt.scatter(y_pred,y_test,label='test',color='#494623',marker =\"^\")\n",
    "plt.xlabel('Actual')\n",
    "plt.ylabel('Predicted')\n",
    "plt.title(\"RF HHV\")\n",
    "plt.legend()"
   ]
  },
  {
   "cell_type": "code",
   "execution_count": 16,
   "id": "6691b69d",
   "metadata": {},
   "outputs": [
    {
     "data": {
      "text/plain": [
       "array([25.18666667])"
      ]
     },
     "execution_count": 16,
     "metadata": {},
     "output_type": "execute_result"
    }
   ],
   "source": [
    "regressor.predict([[3,1,5.8,67.3,9.5,49.5,11,14.2,58.8,6.5,6.7,27.3,0.2,3,19,350,60,180,33,28]])"
   ]
  },
  {
   "cell_type": "code",
   "execution_count": 17,
   "id": "18bb51e6",
   "metadata": {},
   "outputs": [
    {
     "data": {
      "text/plain": [
       "array([33.71333333])"
      ]
     },
     "execution_count": 17,
     "metadata": {},
     "output_type": "execute_result"
    }
   ],
   "source": [
    "regressor.predict([[18,1,6.9,68.5,25.5,53,13,13.5,73,8.2,5.7,12.6,0.5,2,4,350,60,180,26.5,27.1]])#Scenedesmus obliquus"
   ]
  },
  {
   "cell_type": "code",
   "execution_count": 18,
   "id": "c9a63c56",
   "metadata": {},
   "outputs": [
    {
     "data": {
      "text/plain": [
       "array([25.9])"
      ]
     },
     "execution_count": 18,
     "metadata": {},
     "output_type": "execute_result"
    }
   ],
   "source": [
    "regressor.predict([[23,0,10,72.3,11.9,8.4,4.3,35.2,51.4,10.2,0.8,36.4,0.2,1,4,380,60,150,17,22]])#Ulva Lactuca"
   ]
  },
  {
   "cell_type": "code",
   "execution_count": 19,
   "id": "a0877330",
   "metadata": {},
   "outputs": [
    {
     "data": {
      "text/plain": [
       "array([23.9])"
      ]
     },
     "execution_count": 19,
     "metadata": {},
     "output_type": "execute_result"
    }
   ],
   "source": [
    "regressor.predict([[15,1,6.7,78.9,6.4,51.7,21.8,15.9,52.3,7.4,7.5,31.7,0.1,2,16,300,60,180,50,34]])#Scenedesmus abundans"
   ]
  },
  {
   "cell_type": "code",
   "execution_count": 20,
   "id": "9e39207a",
   "metadata": {},
   "outputs": [
    {
     "data": {
      "text/plain": [
       "array([30.014])"
      ]
     },
     "execution_count": 20,
     "metadata": {},
     "output_type": "execute_result"
    }
   ],
   "source": [
    "regressor2.predict([[4,1,10,72.3,7.6,41.8,8.2,37.8,66.5,7.2,6.8,19,0.4,1,22,300,60,150,14.6,38.5]])#Chlorogloeopsis fritschii14"
   ]
  },
  {
   "cell_type": "code",
   "execution_count": null,
   "id": "4f46d9fd",
   "metadata": {},
   "outputs": [],
   "source": []
  }
 ],
 "metadata": {
  "kernelspec": {
   "display_name": "Python 3 (ipykernel)",
   "language": "python",
   "name": "python3"
  },
  "language_info": {
   "codemirror_mode": {
    "name": "ipython",
    "version": 3
   },
   "file_extension": ".py",
   "mimetype": "text/x-python",
   "name": "python",
   "nbconvert_exporter": "python",
   "pygments_lexer": "ipython3",
   "version": "3.9.7"
  }
 },
 "nbformat": 4,
 "nbformat_minor": 5
}
