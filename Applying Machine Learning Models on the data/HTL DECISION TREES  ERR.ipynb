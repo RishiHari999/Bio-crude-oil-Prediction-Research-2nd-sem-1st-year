{
 "cells": [
  {
   "cell_type": "code",
   "execution_count": 1,
   "id": "841fa127",
   "metadata": {},
   "outputs": [
    {
     "data": {
      "application/javascript": [
       "\n",
       "        if (window._pyforest_update_imports_cell) { window._pyforest_update_imports_cell('import pandas as pd'); }\n",
       "    "
      ],
      "text/plain": [
       "<IPython.core.display.Javascript object>"
      ]
     },
     "metadata": {},
     "output_type": "display_data"
    },
    {
     "data": {
      "text/html": [
       "<div>\n",
       "<style scoped>\n",
       "    .dataframe tbody tr th:only-of-type {\n",
       "        vertical-align: middle;\n",
       "    }\n",
       "\n",
       "    .dataframe tbody tr th {\n",
       "        vertical-align: top;\n",
       "    }\n",
       "\n",
       "    .dataframe thead th {\n",
       "        text-align: right;\n",
       "    }\n",
       "</style>\n",
       "<table border=\"1\" class=\"dataframe\">\n",
       "  <thead>\n",
       "    <tr style=\"text-align: right;\">\n",
       "      <th></th>\n",
       "      <th>Feedstock</th>\n",
       "      <th>Type</th>\n",
       "      <th>Moisture</th>\n",
       "      <th>Volatile</th>\n",
       "      <th>Ash</th>\n",
       "      <th>Proteins</th>\n",
       "      <th>lipids</th>\n",
       "      <th>carbohydrates</th>\n",
       "      <th>C</th>\n",
       "      <th>H</th>\n",
       "      <th>...</th>\n",
       "      <th>O</th>\n",
       "      <th>S</th>\n",
       "      <th>Culture Condition</th>\n",
       "      <th>Catalyst</th>\n",
       "      <th>Temp</th>\n",
       "      <th>Time</th>\n",
       "      <th>Pressure</th>\n",
       "      <th>HHV</th>\n",
       "      <th>ERR</th>\n",
       "      <th>Yield%</th>\n",
       "    </tr>\n",
       "  </thead>\n",
       "  <tbody>\n",
       "    <tr>\n",
       "      <th>0</th>\n",
       "      <td>Spirulina platensis</td>\n",
       "      <td>microalgae</td>\n",
       "      <td>11.8</td>\n",
       "      <td>67.0</td>\n",
       "      <td>8.6</td>\n",
       "      <td>53.0</td>\n",
       "      <td>7.5</td>\n",
       "      <td>11.0</td>\n",
       "      <td>72.7</td>\n",
       "      <td>8.8</td>\n",
       "      <td>...</td>\n",
       "      <td>11.5</td>\n",
       "      <td>0.6</td>\n",
       "      <td>open pond</td>\n",
       "      <td>Na2CO3</td>\n",
       "      <td>300</td>\n",
       "      <td>30</td>\n",
       "      <td>130</td>\n",
       "      <td>35.2</td>\n",
       "      <td>37.2</td>\n",
       "      <td>36.0</td>\n",
       "    </tr>\n",
       "    <tr>\n",
       "      <th>1</th>\n",
       "      <td>Nannochloropsis</td>\n",
       "      <td>microalgae</td>\n",
       "      <td>3.9</td>\n",
       "      <td>67.4</td>\n",
       "      <td>24.4</td>\n",
       "      <td>52.0</td>\n",
       "      <td>14.0</td>\n",
       "      <td>27.0</td>\n",
       "      <td>76.0</td>\n",
       "      <td>10.3</td>\n",
       "      <td>...</td>\n",
       "      <td>9.0</td>\n",
       "      <td>0.8</td>\n",
       "      <td>Flask</td>\n",
       "      <td>H-ZSM5</td>\n",
       "      <td>350</td>\n",
       "      <td>60</td>\n",
       "      <td>180</td>\n",
       "      <td>37.9</td>\n",
       "      <td>42.7</td>\n",
       "      <td>43.0</td>\n",
       "    </tr>\n",
       "    <tr>\n",
       "      <th>2</th>\n",
       "      <td>Chlorella vulgaris</td>\n",
       "      <td>microalgae</td>\n",
       "      <td>5.8</td>\n",
       "      <td>67.3</td>\n",
       "      <td>9.5</td>\n",
       "      <td>49.5</td>\n",
       "      <td>11.0</td>\n",
       "      <td>14.2</td>\n",
       "      <td>70.6</td>\n",
       "      <td>9.2</td>\n",
       "      <td>...</td>\n",
       "      <td>12.3</td>\n",
       "      <td>0.4</td>\n",
       "      <td>open pond</td>\n",
       "      <td>LiOH</td>\n",
       "      <td>250</td>\n",
       "      <td>60</td>\n",
       "      <td>100</td>\n",
       "      <td>33.8</td>\n",
       "      <td>33.0</td>\n",
       "      <td>33.0</td>\n",
       "    </tr>\n",
       "    <tr>\n",
       "      <th>3</th>\n",
       "      <td>Porphyridium purpureum</td>\n",
       "      <td>microalgae</td>\n",
       "      <td>8.5</td>\n",
       "      <td>61.6</td>\n",
       "      <td>18.5</td>\n",
       "      <td>45.6</td>\n",
       "      <td>12.1</td>\n",
       "      <td>NaN</td>\n",
       "      <td>69.1</td>\n",
       "      <td>8.4</td>\n",
       "      <td>...</td>\n",
       "      <td>15.2</td>\n",
       "      <td>0.5</td>\n",
       "      <td>PBR</td>\n",
       "      <td>NaN</td>\n",
       "      <td>250</td>\n",
       "      <td>30</td>\n",
       "      <td>100</td>\n",
       "      <td>34.8</td>\n",
       "      <td>41.5</td>\n",
       "      <td>24.7</td>\n",
       "    </tr>\n",
       "    <tr>\n",
       "      <th>4</th>\n",
       "      <td>Dunaliella tertiolecta</td>\n",
       "      <td>microalgae</td>\n",
       "      <td>4.9</td>\n",
       "      <td>54.4</td>\n",
       "      <td>13.5</td>\n",
       "      <td>34.0</td>\n",
       "      <td>23.0</td>\n",
       "      <td>21.0</td>\n",
       "      <td>72.0</td>\n",
       "      <td>8.8</td>\n",
       "      <td>...</td>\n",
       "      <td>9.9</td>\n",
       "      <td>0.3</td>\n",
       "      <td>NaN</td>\n",
       "      <td>Na2CO3</td>\n",
       "      <td>375</td>\n",
       "      <td>50</td>\n",
       "      <td>221</td>\n",
       "      <td>36.0</td>\n",
       "      <td>64.8</td>\n",
       "      <td>55.3</td>\n",
       "    </tr>\n",
       "  </tbody>\n",
       "</table>\n",
       "<p>5 rows × 21 columns</p>\n",
       "</div>"
      ],
      "text/plain": [
       "                Feedstock        Type  Moisture  Volatile   Ash  Proteins   \\\n",
       "0     Spirulina platensis  microalgae      11.8      67.0   8.6       53.0   \n",
       "1         Nannochloropsis  microalgae       3.9      67.4  24.4       52.0   \n",
       "2      Chlorella vulgaris  microalgae       5.8      67.3   9.5       49.5   \n",
       "3  Porphyridium purpureum  microalgae       8.5      61.6  18.5       45.6   \n",
       "4  Dunaliella tertiolecta  microalgae       4.9      54.4  13.5       34.0   \n",
       "\n",
       "   lipids   carbohydrates    C      H  ...     O    S  Culture Condition  \\\n",
       "0      7.5           11.0  72.7   8.8  ...  11.5  0.6          open pond   \n",
       "1     14.0           27.0  76.0  10.3  ...   9.0  0.8              Flask   \n",
       "2     11.0           14.2  70.6   9.2  ...  12.3  0.4          open pond   \n",
       "3     12.1            NaN  69.1   8.4  ...  15.2  0.5                PBR   \n",
       "4     23.0           21.0  72.0   8.8  ...   9.9  0.3                NaN   \n",
       "\n",
       "  Catalyst Temp  Time  Pressure   HHV   ERR  Yield%  \n",
       "0   Na2CO3  300    30       130  35.2  37.2    36.0  \n",
       "1   H-ZSM5  350    60       180  37.9  42.7    43.0  \n",
       "2     LiOH  250    60       100  33.8  33.0    33.0  \n",
       "3      NaN  250    30       100  34.8  41.5    24.7  \n",
       "4   Na2CO3  375    50       221  36.0  64.8    55.3  \n",
       "\n",
       "[5 rows x 21 columns]"
      ]
     },
     "execution_count": 1,
     "metadata": {},
     "output_type": "execute_result"
    }
   ],
   "source": [
    "df=pd.read_excel(\"E:\\HTL Project\\HTL Raw data.xlsx\")\n",
    "df.head()"
   ]
  },
  {
   "cell_type": "code",
   "execution_count": 2,
   "id": "96fddbd9",
   "metadata": {},
   "outputs": [],
   "source": [
    "from sklearn.preprocessing import LabelEncoder\n",
    "le=LabelEncoder()\n",
    "df['Feedstock']=le.fit_transform(df['Feedstock'])\n",
    "df['Type']=le.fit_transform(df['Type'])\n",
    "df['Culture Condition']=le.fit_transform(df['Culture Condition'])\n",
    "df['Catalyst']=le.fit_transform(df['Catalyst'])"
   ]
  },
  {
   "cell_type": "code",
   "execution_count": 3,
   "id": "1082ad71",
   "metadata": {},
   "outputs": [],
   "source": [
    "df['Moisture']=df['Moisture'].fillna(df['Moisture'].mode()[0])\n",
    "df['Volatile']=df['Volatile'].fillna(df['Volatile'].mode()[0])\n",
    "df['carbohydrates']=df['carbohydrates'].fillna(df['carbohydrates'].mode()[0])\n",
    "df['S']=df['S'].fillna(df['S'].mode()[0])\n",
    "df['ERR']=df['ERR'].fillna(df['ERR'].mode()[0])\n",
    "df['lipids ']=df['lipids '].fillna(df['lipids '].mode()[0])"
   ]
  },
  {
   "cell_type": "code",
   "execution_count": 45,
   "id": "1a6cf3cb",
   "metadata": {},
   "outputs": [
    {
     "data": {
      "application/javascript": [
       "\n",
       "        if (window._pyforest_update_imports_cell) { window._pyforest_update_imports_cell('import numpy as np\\nfrom sklearn.model_selection import train_test_split\\nimport pandas as pd'); }\n",
       "    "
      ],
      "text/plain": [
       "<IPython.core.display.Javascript object>"
      ]
     },
     "metadata": {},
     "output_type": "display_data"
    },
    {
     "name": "stdout",
     "output_type": "stream",
     "text": [
      "[47 20 16  8  8  8 14 30 13  2  8 44 16  5 19 52  3 26  9 27 15 22 23 35\n",
      "  6 54 12  8 58  8 29 53  9  8  8 34  8 37  8 24 55 10 55  1 56  0 39 38\n",
      " 33 20 40  4 57 48 59 25 46 41 42 43 51  9 50 17 61 18 21 31 32 60 28 26\n",
      " 36 11  8 16 49 45 54  7]\n",
      "continuous\n",
      "multiclass\n",
      "multiclass\n"
     ]
    },
    {
     "data": {
      "application/javascript": [
       "\n",
       "        if (window._pyforest_update_imports_cell) { window._pyforest_update_imports_cell('import numpy as np\\nfrom sklearn.model_selection import train_test_split\\nimport pandas as pd'); }\n",
       "    "
      ],
      "text/plain": [
       "<IPython.core.display.Javascript object>"
      ]
     },
     "metadata": {},
     "output_type": "display_data"
    },
    {
     "data": {
      "application/javascript": [
       "\n",
       "        if (window._pyforest_update_imports_cell) { window._pyforest_update_imports_cell('import numpy as np\\nfrom sklearn.model_selection import train_test_split\\nimport pandas as pd'); }\n",
       "    "
      ],
      "text/plain": [
       "<IPython.core.display.Javascript object>"
      ]
     },
     "metadata": {},
     "output_type": "display_data"
    },
    {
     "name": "stdout",
     "output_type": "stream",
     "text": [
      "Mean absolute Error:  6.835000000000001\n"
     ]
    },
    {
     "data": {
      "application/javascript": [
       "\n",
       "        if (window._pyforest_update_imports_cell) { window._pyforest_update_imports_cell('import numpy as np\\nfrom sklearn.model_selection import train_test_split\\nimport pandas as pd'); }\n",
       "    "
      ],
      "text/plain": [
       "<IPython.core.display.Javascript object>"
      ]
     },
     "metadata": {},
     "output_type": "display_data"
    },
    {
     "name": "stdout",
     "output_type": "stream",
     "text": [
      "Root mean square error:  1.9460250000000001\n",
      "R2 square:  0.8238726825880216\n"
     ]
    },
    {
     "data": {
      "application/javascript": [
       "\n",
       "        if (window._pyforest_update_imports_cell) { window._pyforest_update_imports_cell('import numpy as np\\nfrom sklearn.model_selection import train_test_split\\nimport pandas as pd'); }\n",
       "    "
      ],
      "text/plain": [
       "<IPython.core.display.Javascript object>"
      ]
     },
     "metadata": {},
     "output_type": "display_data"
    },
    {
     "data": {
      "application/javascript": [
       "\n",
       "        if (window._pyforest_update_imports_cell) { window._pyforest_update_imports_cell('import numpy as np\\nfrom sklearn.model_selection import train_test_split\\nimport pandas as pd'); }\n",
       "    "
      ],
      "text/plain": [
       "<IPython.core.display.Javascript object>"
      ]
     },
     "metadata": {},
     "output_type": "display_data"
    },
    {
     "name": "stdout",
     "output_type": "stream",
     "text": [
      "Mean absolute Error:  4.504999999999998\n"
     ]
    },
    {
     "data": {
      "application/javascript": [
       "\n",
       "        if (window._pyforest_update_imports_cell) { window._pyforest_update_imports_cell('import numpy as np\\nfrom sklearn.model_selection import train_test_split\\nimport pandas as pd'); }\n",
       "    "
      ],
      "text/plain": [
       "<IPython.core.display.Javascript object>"
      ]
     },
     "metadata": {},
     "output_type": "display_data"
    },
    {
     "name": "stdout",
     "output_type": "stream",
     "text": [
      "Root mean square error:  0.1722250000000005\n",
      "R2 square:  0.9189962061571221\n"
     ]
    }
   ],
   "source": [
    "x=df.drop('ERR',axis=1)\n",
    "y=df['ERR']\n",
    "from sklearn.feature_selection import SelectFromModel\n",
    "x_train,x_test,y_train,y_test = train_test_split(x,y,test_size=0.2)\n",
    "from sklearn import preprocessing\n",
    "from sklearn import utils\n",
    "lab_enc = preprocessing.LabelEncoder()\n",
    "encoded = lab_enc.fit_transform(y_train)\n",
    "print(encoded)\n",
    "print(utils.multiclass.type_of_target(y_train))\n",
    "print(utils.multiclass.type_of_target(y_train.astype('int')))\n",
    "print(utils.multiclass.type_of_target(encoded))\n",
    "from sklearn import tree\n",
    "clf = tree.DecisionTreeClassifier(random_state=80)\n",
    "clf.fit(x_train,encoded)\n",
    "y_pred =clf.predict(x_test)\n",
    "y_pred\n",
    "from sklearn.metrics import r2_score\n",
    "print(\"Mean absolute Error: \" ,np.mean(np.absolute(y_pred-y_test)))\n",
    "print(\"Root mean square error: \" ,np.mean(y_pred-y_test)**2)\n",
    "print(\"R2 square: \" ,r2_score(y_pred,y_test))\n",
    "clf1 = tree.DecisionTreeClassifier(random_state=80)\n",
    "clf1.fit(x_train,encoded)\n",
    "y_pred1 =clf1.predict(x_train)\n",
    "y_pred1\n",
    "from sklearn.metrics import r2_score\n",
    "print(\"Mean absolute Error: \" ,np.mean(np.absolute(y_pred1-y_train)))\n",
    "print(\"Root mean square error: \" ,np.mean(y_pred1-y_train)**2)\n",
    "print(\"R2 square: \" ,r2_score(y_pred1,y_train))"
   ]
  },
  {
   "cell_type": "code",
   "execution_count": 7,
   "id": "b4b8d749",
   "metadata": {},
   "outputs": [],
   "source": [
    "params = {\n",
    "    'max_depth': [5,10,20,50,100]\n",
    "}"
   ]
  },
  {
   "cell_type": "code",
   "execution_count": 8,
   "id": "cd87e67d",
   "metadata": {},
   "outputs": [],
   "source": [
    "from sklearn.model_selection import GridSearchCV\n",
    "rf_grid = GridSearchCV(estimator=clf,\n",
    "                           param_grid=params,\n",
    "                           cv = 3,\n",
    "                           n_jobs=4, verbose=2)"
   ]
  },
  {
   "cell_type": "code",
   "execution_count": 9,
   "id": "3f3c12a2",
   "metadata": {},
   "outputs": [
    {
     "name": "stdout",
     "output_type": "stream",
     "text": [
      "Fitting 3 folds for each of 5 candidates, totalling 15 fits\n"
     ]
    },
    {
     "name": "stderr",
     "output_type": "stream",
     "text": [
      "C:\\ProgramData\\Anaconda3\\lib\\site-packages\\sklearn\\model_selection\\_split.py:666: UserWarning: The least populated class in y has only 1 members, which is less than n_splits=3.\n",
      "  warnings.warn((\"The least populated class in y has only %d\"\n"
     ]
    },
    {
     "data": {
      "text/plain": [
       "GridSearchCV(cv=3, estimator=DecisionTreeClassifier(random_state=80), n_jobs=4,\n",
       "             param_grid={'max_depth': [5, 10, 20, 50, 100]}, verbose=2)"
      ]
     },
     "execution_count": 9,
     "metadata": {},
     "output_type": "execute_result"
    }
   ],
   "source": [
    "rf_grid.fit(x_train,encoded)"
   ]
  },
  {
   "cell_type": "code",
   "execution_count": 10,
   "id": "7ca8b9cc",
   "metadata": {},
   "outputs": [
    {
     "data": {
      "text/plain": [
       "{'max_depth': 10}"
      ]
     },
     "execution_count": 10,
     "metadata": {},
     "output_type": "execute_result"
    }
   ],
   "source": [
    "rf_grid.best_params_"
   ]
  },
  {
   "cell_type": "code",
   "execution_count": 11,
   "id": "8a3e5586",
   "metadata": {},
   "outputs": [
    {
     "data": {
      "application/javascript": [
       "\n",
       "        if (window._pyforest_update_imports_cell) { window._pyforest_update_imports_cell('from sklearn.model_selection import train_test_split\\nimport numpy as np\\nimport pandas as pd'); }\n",
       "    "
      ],
      "text/plain": [
       "<IPython.core.display.Javascript object>"
      ]
     },
     "metadata": {},
     "output_type": "display_data"
    },
    {
     "data": {
      "text/html": [
       "<div>\n",
       "<style scoped>\n",
       "    .dataframe tbody tr th:only-of-type {\n",
       "        vertical-align: middle;\n",
       "    }\n",
       "\n",
       "    .dataframe tbody tr th {\n",
       "        vertical-align: top;\n",
       "    }\n",
       "\n",
       "    .dataframe thead th {\n",
       "        text-align: right;\n",
       "    }\n",
       "</style>\n",
       "<table border=\"1\" class=\"dataframe\">\n",
       "  <thead>\n",
       "    <tr style=\"text-align: right;\">\n",
       "      <th></th>\n",
       "      <th>Actual</th>\n",
       "      <th>Predicted</th>\n",
       "    </tr>\n",
       "  </thead>\n",
       "  <tbody>\n",
       "    <tr>\n",
       "      <th>87</th>\n",
       "      <td>6.4</td>\n",
       "      <td>13</td>\n",
       "    </tr>\n",
       "    <tr>\n",
       "      <th>53</th>\n",
       "      <td>39.5</td>\n",
       "      <td>46</td>\n",
       "    </tr>\n",
       "    <tr>\n",
       "      <th>90</th>\n",
       "      <td>38.0</td>\n",
       "      <td>61</td>\n",
       "    </tr>\n",
       "    <tr>\n",
       "      <th>19</th>\n",
       "      <td>50.3</td>\n",
       "      <td>61</td>\n",
       "    </tr>\n",
       "    <tr>\n",
       "      <th>3</th>\n",
       "      <td>41.5</td>\n",
       "      <td>62</td>\n",
       "    </tr>\n",
       "  </tbody>\n",
       "</table>\n",
       "</div>"
      ],
      "text/plain": [
       "    Actual  Predicted\n",
       "87     6.4         13\n",
       "53    39.5         46\n",
       "90    38.0         61\n",
       "19    50.3         61\n",
       "3     41.5         62"
      ]
     },
     "execution_count": 11,
     "metadata": {},
     "output_type": "execute_result"
    }
   ],
   "source": [
    "data=pd.DataFrame({'Actual':y_test,'Predicted':y_pred})\n",
    "data.head()"
   ]
  },
  {
   "cell_type": "code",
   "execution_count": 12,
   "id": "8ce8f7bb",
   "metadata": {},
   "outputs": [
    {
     "data": {
      "application/javascript": [
       "\n",
       "        if (window._pyforest_update_imports_cell) { window._pyforest_update_imports_cell('import matplotlib.pyplot as plt\\nfrom sklearn.model_selection import train_test_split\\nimport numpy as np\\nimport pandas as pd'); }\n",
       "    "
      ],
      "text/plain": [
       "<IPython.core.display.Javascript object>"
      ]
     },
     "metadata": {},
     "output_type": "display_data"
    },
    {
     "data": {
      "application/javascript": [
       "\n",
       "        if (window._pyforest_update_imports_cell) { window._pyforest_update_imports_cell('import matplotlib.pyplot as plt\\nfrom sklearn.model_selection import train_test_split\\nimport numpy as np\\nimport pandas as pd'); }\n",
       "    "
      ],
      "text/plain": [
       "<IPython.core.display.Javascript object>"
      ]
     },
     "metadata": {},
     "output_type": "display_data"
    },
    {
     "data": {
      "application/javascript": [
       "\n",
       "        if (window._pyforest_update_imports_cell) { window._pyforest_update_imports_cell('import matplotlib.pyplot as plt\\nfrom sklearn.model_selection import train_test_split\\nimport numpy as np\\nimport pandas as pd'); }\n",
       "    "
      ],
      "text/plain": [
       "<IPython.core.display.Javascript object>"
      ]
     },
     "metadata": {},
     "output_type": "display_data"
    },
    {
     "data": {
      "application/javascript": [
       "\n",
       "        if (window._pyforest_update_imports_cell) { window._pyforest_update_imports_cell('import matplotlib.pyplot as plt\\nfrom sklearn.model_selection import train_test_split\\nimport numpy as np\\nimport pandas as pd'); }\n",
       "    "
      ],
      "text/plain": [
       "<IPython.core.display.Javascript object>"
      ]
     },
     "metadata": {},
     "output_type": "display_data"
    },
    {
     "data": {
      "application/javascript": [
       "\n",
       "        if (window._pyforest_update_imports_cell) { window._pyforest_update_imports_cell('import matplotlib.pyplot as plt\\nfrom sklearn.model_selection import train_test_split\\nimport numpy as np\\nimport pandas as pd'); }\n",
       "    "
      ],
      "text/plain": [
       "<IPython.core.display.Javascript object>"
      ]
     },
     "metadata": {},
     "output_type": "display_data"
    },
    {
     "data": {
      "application/javascript": [
       "\n",
       "        if (window._pyforest_update_imports_cell) { window._pyforest_update_imports_cell('import matplotlib.pyplot as plt\\nfrom sklearn.model_selection import train_test_split\\nimport numpy as np\\nimport pandas as pd'); }\n",
       "    "
      ],
      "text/plain": [
       "<IPython.core.display.Javascript object>"
      ]
     },
     "metadata": {},
     "output_type": "display_data"
    },
    {
     "data": {
      "text/plain": [
       "<matplotlib.legend.Legend at 0x221fc64c340>"
      ]
     },
     "execution_count": 12,
     "metadata": {},
     "output_type": "execute_result"
    },
    {
     "data": {
      "image/png": "[encoded data removed]",
      "text/plain": [
       "<Figure size 432x288 with 1 Axes>"
      ]
     },
     "metadata": {
      "needs_background": "light"
     },
     "output_type": "display_data"
    }
   ],
   "source": [
    "plt.scatter(y_pred1,y_train,label='train',color='#c3892b')\n",
    "plt.scatter(y_pred,y_test,label='test',color='#494623',marker =\"^\")\n",
    "plt.xlabel('Actual')\n",
    "plt.ylabel('Predicted')\n",
    "plt.title(\"DT ERR%\")\n",
    "plt.legend()"
   ]
  },
  {
   "cell_type": "code",
   "execution_count": 13,
   "id": "b5ce2780",
   "metadata": {},
   "outputs": [
    {
     "data": {
      "text/plain": [
       "array([35], dtype=int64)"
      ]
     },
     "execution_count": 13,
     "metadata": {},
     "output_type": "execute_result"
    }
   ],
   "source": [
    "clf.predict([[3,1,5.8,67.3,9.5,49.5,11,14.2,58.8,6.5,6.7,27.3,0.2,3,19,350,60,180,29.8,28]])"
   ]
  },
  {
   "cell_type": "code",
   "execution_count": 14,
   "id": "f0a5aade",
   "metadata": {},
   "outputs": [
    {
     "data": {
      "text/plain": [
       "array([45], dtype=int64)"
      ]
     },
     "execution_count": 14,
     "metadata": {},
     "output_type": "execute_result"
    }
   ],
   "source": [
    "clf.predict([[18,1,6.9,68.5,25.5,53,13,13.5,73,8.2,5.7,12.6,0.5,2,4,350,60,180,33.6,27.1]])#Scenedesmus obliquus"
   ]
  },
  {
   "cell_type": "code",
   "execution_count": 15,
   "id": "24df7092",
   "metadata": {},
   "outputs": [
    {
     "data": {
      "text/plain": [
       "array([12], dtype=int64)"
      ]
     },
     "execution_count": 15,
     "metadata": {},
     "output_type": "execute_result"
    }
   ],
   "source": [
    "clf.predict([[23,0,10,72.3,11.9,8.4,4.3,35.2,51.4,10.2,0.8,36.4,0.2,1,4,380,60,150,26,22]])#Scenedesmus obliquus"
   ]
  },
  {
   "cell_type": "code",
   "execution_count": 16,
   "id": "fa97a593",
   "metadata": {},
   "outputs": [
    {
     "data": {
      "text/plain": [
       "array([59], dtype=int64)"
      ]
     },
     "execution_count": 16,
     "metadata": {},
     "output_type": "execute_result"
    }
   ],
   "source": [
    "clf.predict([[15,1,6.7,78.9,6.4,51.7,21.8,15.9,52.3,7.4,7.5,31.7,0.1,2,16,300,60,180,36,34]])#Scenedesmus abundans"
   ]
  },
  {
   "cell_type": "code",
   "execution_count": 18,
   "id": "c5708e1c",
   "metadata": {},
   "outputs": [
    {
     "data": {
      "text/plain": [
       "array([7], dtype=int64)"
      ]
     },
     "execution_count": 18,
     "metadata": {},
     "output_type": "execute_result"
    }
   ],
   "source": [
    "clf.predict([[4,1,10,72.3,7.6,41.8,8.2,37.8,66.5,7.2,6.8,19,0.4,1,22,300,60,150,32,38.5]])#Chlorogloeopsis fritschii14"
   ]
  },
  {
   "cell_type": "code",
   "execution_count": null,
   "id": "e09bc34a",
   "metadata": {},
   "outputs": [],
   "source": []
  }
 ],
 "metadata": {
  "kernelspec": {
   "display_name": "Python 3 (ipykernel)",
   "language": "python",
   "name": "python3"
  },
  "language_info": {
   "codemirror_mode": {
    "name": "ipython",
    "version": 3
   },
   "file_extension": ".py",
   "mimetype": "text/x-python",
   "name": "python",
   "nbconvert_exporter": "python",
   "pygments_lexer": "ipython3",
   "version": "3.9.7"
  }
 },
 "nbformat": 4,
 "nbformat_minor": 5
}
