{
 "cells": [
  {
   "cell_type": "code",
   "execution_count": 2,
   "id": "c5ac5ef2",
   "metadata": {},
   "outputs": [
    {
     "data": {
      "application/javascript": [
       "\n",
       "        if (window._pyforest_update_imports_cell) { window._pyforest_update_imports_cell('import pandas as pd\\nimport matplotlib.pyplot as plt'); }\n",
       "    "
      ],
      "text/plain": [
       "<IPython.core.display.Javascript object>"
      ]
     },
     "metadata": {},
     "output_type": "display_data"
    },
    {
     "data": {
      "text/html": [
       "<div>\n",
       "<style scoped>\n",
       "    .dataframe tbody tr th:only-of-type {\n",
       "        vertical-align: middle;\n",
       "    }\n",
       "\n",
       "    .dataframe tbody tr th {\n",
       "        vertical-align: top;\n",
       "    }\n",
       "\n",
       "    .dataframe thead th {\n",
       "        text-align: right;\n",
       "    }\n",
       "</style>\n",
       "<table border=\"1\" class=\"dataframe\">\n",
       "  <thead>\n",
       "    <tr style=\"text-align: right;\">\n",
       "      <th></th>\n",
       "      <th>Feedstock</th>\n",
       "      <th>C</th>\n",
       "      <th>H</th>\n",
       "      <th>N</th>\n",
       "      <th>O</th>\n",
       "      <th>S</th>\n",
       "      <th>Temp</th>\n",
       "      <th>Time</th>\n",
       "      <th>Catalyst</th>\n",
       "      <th>Pressure</th>\n",
       "      <th>HHV</th>\n",
       "      <th>ERR</th>\n",
       "      <th>Yield%</th>\n",
       "    </tr>\n",
       "  </thead>\n",
       "  <tbody>\n",
       "    <tr>\n",
       "      <th>0</th>\n",
       "      <td>Spirulina platensis</td>\n",
       "      <td>72.7</td>\n",
       "      <td>8.8</td>\n",
       "      <td>6.3</td>\n",
       "      <td>11.5</td>\n",
       "      <td>0.6</td>\n",
       "      <td>300</td>\n",
       "      <td>30</td>\n",
       "      <td>Na2CO3</td>\n",
       "      <td>130</td>\n",
       "      <td>35.2</td>\n",
       "      <td>37.2</td>\n",
       "      <td>36.0</td>\n",
       "    </tr>\n",
       "    <tr>\n",
       "      <th>1</th>\n",
       "      <td>Nannochloropsis</td>\n",
       "      <td>76.0</td>\n",
       "      <td>10.3</td>\n",
       "      <td>3.9</td>\n",
       "      <td>9.0</td>\n",
       "      <td>0.8</td>\n",
       "      <td>350</td>\n",
       "      <td>60</td>\n",
       "      <td>H-ZSM5</td>\n",
       "      <td>180</td>\n",
       "      <td>37.9</td>\n",
       "      <td>42.7</td>\n",
       "      <td>43.0</td>\n",
       "    </tr>\n",
       "    <tr>\n",
       "      <th>2</th>\n",
       "      <td>Chlorella vulgaris</td>\n",
       "      <td>70.6</td>\n",
       "      <td>9.2</td>\n",
       "      <td>5.5</td>\n",
       "      <td>12.3</td>\n",
       "      <td>0.4</td>\n",
       "      <td>250</td>\n",
       "      <td>60</td>\n",
       "      <td>LiOH</td>\n",
       "      <td>100</td>\n",
       "      <td>33.8</td>\n",
       "      <td>33.0</td>\n",
       "      <td>33.0</td>\n",
       "    </tr>\n",
       "    <tr>\n",
       "      <th>3</th>\n",
       "      <td>Porphyridium purpureum</td>\n",
       "      <td>69.1</td>\n",
       "      <td>8.4</td>\n",
       "      <td>5.0</td>\n",
       "      <td>15.2</td>\n",
       "      <td>0.5</td>\n",
       "      <td>250</td>\n",
       "      <td>30</td>\n",
       "      <td>NaN</td>\n",
       "      <td>100</td>\n",
       "      <td>34.8</td>\n",
       "      <td>41.5</td>\n",
       "      <td>24.7</td>\n",
       "    </tr>\n",
       "    <tr>\n",
       "      <th>4</th>\n",
       "      <td>Dunaliella tertiolecta</td>\n",
       "      <td>72.0</td>\n",
       "      <td>8.8</td>\n",
       "      <td>6.2</td>\n",
       "      <td>9.9</td>\n",
       "      <td>0.3</td>\n",
       "      <td>375</td>\n",
       "      <td>50</td>\n",
       "      <td>Na2CO3</td>\n",
       "      <td>221</td>\n",
       "      <td>36.0</td>\n",
       "      <td>64.8</td>\n",
       "      <td>55.3</td>\n",
       "    </tr>\n",
       "  </tbody>\n",
       "</table>\n",
       "</div>"
      ],
      "text/plain": [
       "                Feedstock    C      H    N     O    S  Temp  Time Catalyst  \\\n",
       "0     Spirulina platensis  72.7   8.8  6.3  11.5  0.6   300    30   Na2CO3   \n",
       "1         Nannochloropsis  76.0  10.3  3.9   9.0  0.8   350    60   H-ZSM5   \n",
       "2      Chlorella vulgaris  70.6   9.2  5.5  12.3  0.4   250    60     LiOH   \n",
       "3  Porphyridium purpureum  69.1   8.4  5.0  15.2  0.5   250    30      NaN   \n",
       "4  Dunaliella tertiolecta  72.0   8.8  6.2   9.9  0.3   375    50   Na2CO3   \n",
       "\n",
       "   Pressure   HHV   ERR  Yield%  \n",
       "0       130  35.2  37.2    36.0  \n",
       "1       180  37.9  42.7    43.0  \n",
       "2       100  33.8  33.0    33.0  \n",
       "3       100  34.8  41.5    24.7  \n",
       "4       221  36.0  64.8    55.3  "
      ]
     },
     "execution_count": 2,
     "metadata": {},
     "output_type": "execute_result"
    }
   ],
   "source": [
    "data=pd.read_excel(\"E:\\HTL Project\\Dataset 1.xlsx\")\n",
    "data.head()"
   ]
  },
  {
   "cell_type": "code",
   "execution_count": 3,
   "id": "aab2ac5b",
   "metadata": {},
   "outputs": [],
   "source": [
    "from sklearn.preprocessing import LabelEncoder\n",
    "le=LabelEncoder()\n",
    "data['Feedstock']=le.fit_transform(data['Feedstock'])\n",
    "data['Catalyst']=le.fit_transform(data['Catalyst'])\n",
    "data['S']=data['S'].fillna(data['S'].mode()[0])\n",
    "data['ERR']=data['ERR'].fillna(data['ERR'].mode()[0])"
   ]
  },
  {
   "cell_type": "code",
   "execution_count": 4,
   "id": "c05c7170",
   "metadata": {},
   "outputs": [
    {
     "data": {
      "application/javascript": [
       "\n",
       "        if (window._pyforest_update_imports_cell) { window._pyforest_update_imports_cell('import numpy as np\\nimport pandas as pd\\nimport matplotlib.pyplot as plt'); }\n",
       "    "
      ],
      "text/plain": [
       "<IPython.core.display.Javascript object>"
      ]
     },
     "metadata": {},
     "output_type": "display_data"
    },
    {
     "data": {
      "application/javascript": [
       "\n",
       "        if (window._pyforest_update_imports_cell) { window._pyforest_update_imports_cell('import numpy as np\\nimport pandas as pd\\nimport matplotlib.pyplot as plt'); }\n",
       "    "
      ],
      "text/plain": [
       "<IPython.core.display.Javascript object>"
      ]
     },
     "metadata": {},
     "output_type": "display_data"
    },
    {
     "name": "stdout",
     "output_type": "stream",
     "text": [
      "Mean absolute Error:  0.18933707652636206\n"
     ]
    },
    {
     "data": {
      "application/javascript": [
       "\n",
       "        if (window._pyforest_update_imports_cell) { window._pyforest_update_imports_cell('import numpy as np\\nimport pandas as pd\\nimport matplotlib.pyplot as plt'); }\n",
       "    "
      ],
      "text/plain": [
       "<IPython.core.display.Javascript object>"
      ]
     },
     "metadata": {},
     "output_type": "display_data"
    },
    {
     "name": "stdout",
     "output_type": "stream",
     "text": [
      "Root mean square error:  0.009489705509499747\n",
      "R2 square:  0.999092577477847\n"
     ]
    },
    {
     "data": {
      "application/javascript": [
       "\n",
       "        if (window._pyforest_update_imports_cell) { window._pyforest_update_imports_cell('import numpy as np\\nimport pandas as pd\\nimport matplotlib.pyplot as plt'); }\n",
       "    "
      ],
      "text/plain": [
       "<IPython.core.display.Javascript object>"
      ]
     },
     "metadata": {},
     "output_type": "display_data"
    },
    {
     "data": {
      "application/javascript": [
       "\n",
       "        if (window._pyforest_update_imports_cell) { window._pyforest_update_imports_cell('import numpy as np\\nimport pandas as pd\\nimport matplotlib.pyplot as plt'); }\n",
       "    "
      ],
      "text/plain": [
       "<IPython.core.display.Javascript object>"
      ]
     },
     "metadata": {},
     "output_type": "display_data"
    },
    {
     "name": "stdout",
     "output_type": "stream",
     "text": [
      "Mean absolute Error:  0.2704494824899418\n"
     ]
    },
    {
     "data": {
      "application/javascript": [
       "\n",
       "        if (window._pyforest_update_imports_cell) { window._pyforest_update_imports_cell('import numpy as np\\nimport pandas as pd\\nimport matplotlib.pyplot as plt'); }\n",
       "    "
      ],
      "text/plain": [
       "<IPython.core.display.Javascript object>"
      ]
     },
     "metadata": {},
     "output_type": "display_data"
    },
    {
     "name": "stdout",
     "output_type": "stream",
     "text": [
      "Root mean square error:  1.9568680830138723e-30\n",
      "R2 square:  0.9941381506226282\n"
     ]
    }
   ],
   "source": [
    "x=data.drop('HHV',axis=1)\n",
    "y=data['HHV']\n",
    "from sklearn.model_selection import train_test_split\n",
    "from sklearn import linear_model\n",
    "from sklearn.linear_model import LinearRegression\n",
    "from sklearn.metrics import r2_score\n",
    "reg=linear_model.LinearRegression()\n",
    "x_train,x_test,y_train,y_test = train_test_split(x,y,test_size=0.2)\n",
    "reg.fit(x_train,y_train)\n",
    "y_pred = reg.predict(x_test)\n",
    "y_pred\n",
    "print(\"Mean absolute Error: \" ,np.mean(np.absolute(y_pred-y_test)))\n",
    "print(\"Root mean square error: \" ,np.mean(y_pred-y_test)**2)\n",
    "print(\"R2 square: \" ,r2_score(y_pred,y_test))\n",
    "reg1=linear_model.LinearRegression()\n",
    "reg1.fit(x_train,y_train)\n",
    "y_pred1 = reg1.predict(x_train)\n",
    "y_pred\n",
    "print(\"Mean absolute Error: \" ,np.mean(np.absolute(y_pred1-y_train)))\n",
    "print(\"Root mean square error: \" ,np.mean(y_pred1-y_train)**2)\n",
    "print(\"R2 square: \" ,r2_score(y_pred1,y_train))"
   ]
  },
  {
   "cell_type": "code",
   "execution_count": 5,
   "id": "5c32f630",
   "metadata": {},
   "outputs": [
    {
     "data": {
      "application/javascript": [
       "\n",
       "        if (window._pyforest_update_imports_cell) { window._pyforest_update_imports_cell('import numpy as np\\nimport pandas as pd\\nimport matplotlib.pyplot as plt'); }\n",
       "    "
      ],
      "text/plain": [
       "<IPython.core.display.Javascript object>"
      ]
     },
     "metadata": {},
     "output_type": "display_data"
    },
    {
     "data": {
      "application/javascript": [
       "\n",
       "        if (window._pyforest_update_imports_cell) { window._pyforest_update_imports_cell('import numpy as np\\nimport pandas as pd\\nimport matplotlib.pyplot as plt'); }\n",
       "    "
      ],
      "text/plain": [
       "<IPython.core.display.Javascript object>"
      ]
     },
     "metadata": {},
     "output_type": "display_data"
    },
    {
     "data": {
      "application/javascript": [
       "\n",
       "        if (window._pyforest_update_imports_cell) { window._pyforest_update_imports_cell('import numpy as np\\nimport pandas as pd\\nimport matplotlib.pyplot as plt'); }\n",
       "    "
      ],
      "text/plain": [
       "<IPython.core.display.Javascript object>"
      ]
     },
     "metadata": {},
     "output_type": "display_data"
    },
    {
     "data": {
      "application/javascript": [
       "\n",
       "        if (window._pyforest_update_imports_cell) { window._pyforest_update_imports_cell('import numpy as np\\nimport pandas as pd\\nimport matplotlib.pyplot as plt'); }\n",
       "    "
      ],
      "text/plain": [
       "<IPython.core.display.Javascript object>"
      ]
     },
     "metadata": {},
     "output_type": "display_data"
    },
    {
     "data": {
      "application/javascript": [
       "\n",
       "        if (window._pyforest_update_imports_cell) { window._pyforest_update_imports_cell('import numpy as np\\nimport pandas as pd\\nimport matplotlib.pyplot as plt'); }\n",
       "    "
      ],
      "text/plain": [
       "<IPython.core.display.Javascript object>"
      ]
     },
     "metadata": {},
     "output_type": "display_data"
    },
    {
     "data": {
      "text/plain": [
       "<matplotlib.legend.Legend at 0x2a515d2ffd0>"
      ]
     },
     "execution_count": 5,
     "metadata": {},
     "output_type": "execute_result"
    },
    {
     "data": {
      "image/png": "[encoded data removed]",
      "text/plain": [
       "<Figure size 432x288 with 1 Axes>"
      ]
     },
     "metadata": {
      "needs_background": "light"
     },
     "output_type": "display_data"
    }
   ],
   "source": [
    "plt.scatter(y_pred1,y_train,label='train',color='#e8e7d8',edgecolors='#494623')\n",
    "plt.scatter(y_pred,y_test,label='test',color='#c3892b',marker =\"^\",edgecolors='#494623')\n",
    "plt.xlabel('Actual',fontsize=16)\n",
    "plt.ylabel('Predicted',fontsize=16)\n",
    "plt.legend()"
   ]
  },
  {
   "cell_type": "code",
   "execution_count": null,
   "id": "237d251f",
   "metadata": {},
   "outputs": [],
   "source": []
  }
 ],
 "metadata": {
  "kernelspec": {
   "display_name": "Python 3 (ipykernel)",
   "language": "python",
   "name": "python3"
  },
  "language_info": {
   "codemirror_mode": {
    "name": "ipython",
    "version": 3
   },
   "file_extension": ".py",
   "mimetype": "text/x-python",
   "name": "python",
   "nbconvert_exporter": "python",
   "pygments_lexer": "ipython3",
   "version": "3.9.7"
  }
 },
 "nbformat": 4,
 "nbformat_minor": 5
}
